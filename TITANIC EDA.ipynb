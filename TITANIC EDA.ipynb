{
 "cells": [
  {
   "cell_type": "code",
   "execution_count": 415,
   "metadata": {},
   "outputs": [],
   "source": [
    "# suppress display of warnings\n",
    "import warnings\n",
    "warnings.filterwarnings(\"ignore\")\n",
    "\n",
    "\n",
    "import os\n",
    "\n",
    "# 'Pandas' is used for data manipulation and analysis\n",
    "import pandas as pd \n",
    "\n",
    "# 'Numpy' is used for mathematical operations on large, multi-dimensional arrays and matrices\n",
    "import numpy as np\n",
    "\n",
    "# 'Matplotlib' is a data visualization library for 2D and 3D plots, built on numpy\n",
    "import matplotlib.pyplot as plt\n",
    "from matplotlib.colors import ListedColormap\n",
    "\n",
    "# 'Seaborn' is based on matplotlib; used for plotting statistical graphics\n",
    "import seaborn as sns\n",
    "\n",
    "# import 'is_string_dtype' to check if the type of input is string  \n",
    "from pandas.api.types import is_string_dtype\n",
    "\n",
    "# import various functions to perform classification\n",
    "from sklearn.preprocessing import StandardScaler\n",
    "from sklearn.model_selection import train_test_split\n",
    "from sklearn import metrics\n",
    "from sklearn.linear_model import LogisticRegression\n",
    "from sklearn.metrics import classification_report\n",
    "from sklearn.metrics import cohen_kappa_score\n",
    "from sklearn.metrics import confusion_matrix\n",
    "from sklearn.metrics import roc_auc_score\n",
    "from sklearn.metrics import roc_curve\n",
    "from sklearn.linear_model import SGDClassifier\n",
    "from sklearn.tree import DecisionTreeClassifier\n",
    "from sklearn.model_selection import GridSearchCV\n",
    "from sklearn import tree\n",
    "from sklearn.tree import export_graphviz\n",
    "from sklearn.ensemble import RandomForestClassifier\n",
    "from sklearn.ensemble import AdaBoostClassifier\n",
    "from sklearn.ensemble import GradientBoostingClassifier\n",
    "\n",
    "# import functions to perform logistic regression\n",
    "import statsmodels\n",
    "import statsmodels.api as sm\n",
    "\n",
    "# import functions to plot the decision tree\n",
    "import pydotplus\n",
    "from IPython.display import Image  \n",
    "import graphviz"
   ]
  },
  {
   "cell_type": "code",
   "execution_count": 2,
   "metadata": {},
   "outputs": [
    {
     "name": "stdout",
     "output_type": "stream",
     "text": [
      "Collecting pydotplus\n",
      "  Downloading pydotplus-2.0.2.tar.gz (278 kB)\n",
      "Requirement already satisfied: pyparsing>=2.0.1 in c:\\users\\user\\anaconda3\\lib\\site-packages (from pydotplus) (2.4.7)\n",
      "Building wheels for collected packages: pydotplus\n",
      "  Building wheel for pydotplus (setup.py): started\n"
     ]
    },
    {
     "name": "stderr",
     "output_type": "stream",
     "text": [
      "WARNING: You are using pip version 21.0.1; however, version 21.1.1 is available.\n",
      "You should consider upgrading via the 'c:\\users\\user\\anaconda3\\python.exe -m pip install --upgrade pip' command.\n"
     ]
    },
    {
     "name": "stdout",
     "output_type": "stream",
     "text": [
      "  Building wheel for pydotplus (setup.py): finished with status 'done'\n",
      "  Created wheel for pydotplus: filename=pydotplus-2.0.2-py3-none-any.whl size=24572 sha256=515618674339408833d68b6c4c0b8908a7ffd161f4f693f0865310da2be5c62b\n",
      "  Stored in directory: c:\\users\\user\\appdata\\local\\pip\\cache\\wheels\\fe\\cd\\78\\a7e873cc049759194f8271f780640cf96b35e5a48bef0e2f36\n",
      "Successfully built pydotplus\n",
      "Installing collected packages: pydotplus\n",
      "Successfully installed pydotplus-2.0.2\n"
     ]
    }
   ],
   "source": [
    "! pip install pydotplus"
   ]
  },
  {
   "cell_type": "code",
   "execution_count": 3,
   "metadata": {},
   "outputs": [
    {
     "name": "stdout",
     "output_type": "stream",
     "text": [
      "Collecting graphviz"
     ]
    },
    {
     "name": "stderr",
     "output_type": "stream",
     "text": [
      "WARNING: You are using pip version 21.0.1; however, version 21.1.1 is available.\n",
      "You should consider upgrading via the 'c:\\users\\user\\anaconda3\\python.exe -m pip install --upgrade pip' command.\n"
     ]
    },
    {
     "name": "stdout",
     "output_type": "stream",
     "text": [
      "\n",
      "  Downloading graphviz-0.16-py2.py3-none-any.whl (19 kB)\n",
      "Installing collected packages: graphviz\n",
      "Successfully installed graphviz-0.16\n"
     ]
    }
   ],
   "source": [
    "! pip install graphviz"
   ]
  },
  {
   "cell_type": "code",
   "execution_count": 416,
   "metadata": {},
   "outputs": [],
   "source": [
    "# set the plot size using 'rcParams'\n",
    "# once the plot size is set using 'rcParams', it sets the size of all the forthcoming plots in the file\n",
    "# pass width and height in inches to 'figure.figsize' \n",
    "plt.rcParams['figure.figsize'] = [15,8]"
   ]
  },
  {
   "cell_type": "markdown",
   "metadata": {},
   "source": [
    "### Overview\n",
    "### The data has been split into two groups:\n",
    "\n",
    "### training set (train.csv)\n",
    "### test set (test.csv)\n",
    "### The training set should be used to build your machine learning models. For the training set, we provide the outcome (also known as the “ground truth”) for each passenger. Your model will be based on “features” like  passengers’ gender and class. You can also use feature engineering to create new features.\n",
    "\n",
    "### The test set should be used to see how well your model performs on unseen data. For the test set, we do not provide the ground truth for each passenger. It is your job to predict these outcomes. For each passenger in the test set, use the model you trained to predict whether or not they survived the sinking of the Titanic.\n",
    "\n",
    "### We also include gender_submission.csv, a set of predictions that assume all and only female passengers\n",
    "### survive, as an example of what a submission file should look like."
   ]
  },
  {
   "cell_type": "code",
   "execution_count": 3,
   "metadata": {},
   "outputs": [
    {
     "ename": "SyntaxError",
     "evalue": "invalid syntax (<ipython-input-3-2a4601d3ef9a>, line 1)",
     "output_type": "error",
     "traceback": [
      "\u001b[1;36m  File \u001b[1;32m\"<ipython-input-3-2a4601d3ef9a>\"\u001b[1;36m, line \u001b[1;32m1\u001b[0m\n\u001b[1;33m    Variable\tDefinition\tKey\u001b[0m\n\u001b[1;37m            \t^\u001b[0m\n\u001b[1;31mSyntaxError\u001b[0m\u001b[1;31m:\u001b[0m invalid syntax\n"
     ]
    }
   ],
   "source": [
    "Variable\tDefinition\tKey\n",
    "survival\tSurvival\t0 = No, 1 = Yes\n",
    "pclass\tTicket class\t1 = 1st, 2 = 2nd, 3 = 3rd\n",
    "sex\tSex\t\n",
    "Age\tAge in years\t\n",
    "sibsp\t# of siblings / spouses aboard the Titanic\t\n",
    "parch\t# of parents / children aboard the Titanic\t\n",
    "ticket\tTicket number\t\n",
    "fare\tPassenger fare\t\n",
    "cabin\tCabin number\t\n",
    "embarked\tPort of Embarkation\tC = Cherbourg, Q = Queenstown, S = Southampton\n",
    "Variable Notes"
   ]
  },
  {
   "cell_type": "code",
   "execution_count": 417,
   "metadata": {},
   "outputs": [
    {
     "data": {
      "text/html": [
       "<div>\n",
       "<style scoped>\n",
       "    .dataframe tbody tr th:only-of-type {\n",
       "        vertical-align: middle;\n",
       "    }\n",
       "\n",
       "    .dataframe tbody tr th {\n",
       "        vertical-align: top;\n",
       "    }\n",
       "\n",
       "    .dataframe thead th {\n",
       "        text-align: right;\n",
       "    }\n",
       "</style>\n",
       "<table border=\"1\" class=\"dataframe\">\n",
       "  <thead>\n",
       "    <tr style=\"text-align: right;\">\n",
       "      <th></th>\n",
       "      <th>PassengerId</th>\n",
       "      <th>Survived</th>\n",
       "      <th>Pclass</th>\n",
       "      <th>Name</th>\n",
       "      <th>Sex</th>\n",
       "      <th>Age</th>\n",
       "      <th>SibSp</th>\n",
       "      <th>Parch</th>\n",
       "      <th>Ticket</th>\n",
       "      <th>Fare</th>\n",
       "      <th>Cabin</th>\n",
       "      <th>Embarked</th>\n",
       "    </tr>\n",
       "  </thead>\n",
       "  <tbody>\n",
       "    <tr>\n",
       "      <th>0</th>\n",
       "      <td>1</td>\n",
       "      <td>0</td>\n",
       "      <td>3</td>\n",
       "      <td>Braund, Mr. Owen Harris</td>\n",
       "      <td>male</td>\n",
       "      <td>22.0</td>\n",
       "      <td>1</td>\n",
       "      <td>0</td>\n",
       "      <td>A/5 21171</td>\n",
       "      <td>7.2500</td>\n",
       "      <td>NaN</td>\n",
       "      <td>S</td>\n",
       "    </tr>\n",
       "    <tr>\n",
       "      <th>1</th>\n",
       "      <td>2</td>\n",
       "      <td>1</td>\n",
       "      <td>1</td>\n",
       "      <td>Cumings, Mrs. John Bradley (Florence Briggs Th...</td>\n",
       "      <td>female</td>\n",
       "      <td>38.0</td>\n",
       "      <td>1</td>\n",
       "      <td>0</td>\n",
       "      <td>PC 17599</td>\n",
       "      <td>71.2833</td>\n",
       "      <td>C85</td>\n",
       "      <td>C</td>\n",
       "    </tr>\n",
       "    <tr>\n",
       "      <th>2</th>\n",
       "      <td>3</td>\n",
       "      <td>1</td>\n",
       "      <td>3</td>\n",
       "      <td>Heikkinen, Miss. Laina</td>\n",
       "      <td>female</td>\n",
       "      <td>26.0</td>\n",
       "      <td>0</td>\n",
       "      <td>0</td>\n",
       "      <td>STON/O2. 3101282</td>\n",
       "      <td>7.9250</td>\n",
       "      <td>NaN</td>\n",
       "      <td>S</td>\n",
       "    </tr>\n",
       "    <tr>\n",
       "      <th>3</th>\n",
       "      <td>4</td>\n",
       "      <td>1</td>\n",
       "      <td>1</td>\n",
       "      <td>Futrelle, Mrs. Jacques Heath (Lily May Peel)</td>\n",
       "      <td>female</td>\n",
       "      <td>35.0</td>\n",
       "      <td>1</td>\n",
       "      <td>0</td>\n",
       "      <td>113803</td>\n",
       "      <td>53.1000</td>\n",
       "      <td>C123</td>\n",
       "      <td>S</td>\n",
       "    </tr>\n",
       "    <tr>\n",
       "      <th>4</th>\n",
       "      <td>5</td>\n",
       "      <td>0</td>\n",
       "      <td>3</td>\n",
       "      <td>Allen, Mr. William Henry</td>\n",
       "      <td>male</td>\n",
       "      <td>35.0</td>\n",
       "      <td>0</td>\n",
       "      <td>0</td>\n",
       "      <td>373450</td>\n",
       "      <td>8.0500</td>\n",
       "      <td>NaN</td>\n",
       "      <td>S</td>\n",
       "    </tr>\n",
       "  </tbody>\n",
       "</table>\n",
       "</div>"
      ],
      "text/plain": [
       "   PassengerId  Survived  Pclass  \\\n",
       "0            1         0       3   \n",
       "1            2         1       1   \n",
       "2            3         1       3   \n",
       "3            4         1       1   \n",
       "4            5         0       3   \n",
       "\n",
       "                                                Name     Sex   Age  SibSp  \\\n",
       "0                            Braund, Mr. Owen Harris    male  22.0      1   \n",
       "1  Cumings, Mrs. John Bradley (Florence Briggs Th...  female  38.0      1   \n",
       "2                             Heikkinen, Miss. Laina  female  26.0      0   \n",
       "3       Futrelle, Mrs. Jacques Heath (Lily May Peel)  female  35.0      1   \n",
       "4                           Allen, Mr. William Henry    male  35.0      0   \n",
       "\n",
       "   Parch            Ticket     Fare Cabin Embarked  \n",
       "0      0         A/5 21171   7.2500   NaN        S  \n",
       "1      0          PC 17599  71.2833   C85        C  \n",
       "2      0  STON/O2. 3101282   7.9250   NaN        S  \n",
       "3      0            113803  53.1000  C123        S  \n",
       "4      0            373450   8.0500   NaN        S  "
      ]
     },
     "execution_count": 417,
     "metadata": {},
     "output_type": "execute_result"
    }
   ],
   "source": [
    "# read the excel data file \n",
    "df = pd.read_csv(\"C:\\\\Users\\\\USER\\\\Desktop\\\\KAGGLECOMP\\\\train.csv\")\n",
    "# display the top 5 rows of the dataframe\n",
    "df.head()\n",
    "\n",
    "# Note: To display more rows, example 10, use head(10)"
   ]
  },
  {
   "cell_type": "code",
   "execution_count": 418,
   "metadata": {},
   "outputs": [
    {
     "name": "stdout",
     "output_type": "stream",
     "text": [
      "<class 'pandas.core.frame.DataFrame'>\n",
      "RangeIndex: 891 entries, 0 to 890\n",
      "Data columns (total 12 columns):\n",
      " #   Column       Non-Null Count  Dtype  \n",
      "---  ------       --------------  -----  \n",
      " 0   PassengerId  891 non-null    int64  \n",
      " 1   Survived     891 non-null    int64  \n",
      " 2   Pclass       891 non-null    int64  \n",
      " 3   Name         891 non-null    object \n",
      " 4   Sex          891 non-null    object \n",
      " 5   Age          714 non-null    float64\n",
      " 6   SibSp        891 non-null    int64  \n",
      " 7   Parch        891 non-null    int64  \n",
      " 8   Ticket       891 non-null    object \n",
      " 9   Fare         891 non-null    float64\n",
      " 10  Cabin        204 non-null    object \n",
      " 11  Embarked     889 non-null    object \n",
      "dtypes: float64(2), int64(5), object(5)\n",
      "memory usage: 83.7+ KB\n"
     ]
    }
   ],
   "source": [
    "df.info()"
   ]
  },
  {
   "cell_type": "code",
   "execution_count": 419,
   "metadata": {},
   "outputs": [
    {
     "data": {
      "text/plain": [
       "PassengerId      int64\n",
       "Survived         int64\n",
       "Pclass           int64\n",
       "Name            object\n",
       "Sex             object\n",
       "Age            float64\n",
       "SibSp            int64\n",
       "Parch            int64\n",
       "Ticket          object\n",
       "Fare           float64\n",
       "Cabin           object\n",
       "Embarked        object\n",
       "dtype: object"
      ]
     },
     "execution_count": 419,
     "metadata": {},
     "output_type": "execute_result"
    }
   ],
   "source": [
    "# 'dtypes' gives the data type for each column\n",
    "df.dtypes"
   ]
  },
  {
   "cell_type": "code",
   "execution_count": 420,
   "metadata": {},
   "outputs": [
    {
     "data": {
      "text/plain": [
       "(891, 12)"
      ]
     },
     "execution_count": 420,
     "metadata": {},
     "output_type": "execute_result"
    }
   ],
   "source": [
    "# 'shape' function gives the total number of rows and columns in the data\n",
    "df.shape"
   ]
  },
  {
   "cell_type": "code",
   "execution_count": 421,
   "metadata": {},
   "outputs": [
    {
     "data": {
      "text/plain": [
       "PassengerId      0\n",
       "Survived         0\n",
       "Pclass           0\n",
       "Name             0\n",
       "Sex              0\n",
       "Age            177\n",
       "SibSp            0\n",
       "Parch            0\n",
       "Ticket           0\n",
       "Fare             0\n",
       "Cabin          687\n",
       "Embarked         2\n",
       "dtype: int64"
      ]
     },
     "execution_count": 421,
     "metadata": {},
     "output_type": "execute_result"
    }
   ],
   "source": [
    "df.isnull().sum()"
   ]
  },
  {
   "cell_type": "code",
   "execution_count": 422,
   "metadata": {},
   "outputs": [
    {
     "data": {
      "image/png": "[encoded data removed]",
      "text/plain": [
       "<Figure size 1080x576 with 1 Axes>"
      ]
     },
     "metadata": {
      "needs_background": "light"
     },
     "output_type": "display_data"
    }
   ],
   "source": [
    "# plot heatmap to check null values\n",
    "# 'cbar = False' does not show the color axis \n",
    "sns.heatmap(df.isnull(), cbar=False)\n",
    "\n",
    "# display the plot\n",
    "plt.show()"
   ]
  },
  {
   "cell_type": "code",
   "execution_count": 423,
   "metadata": {},
   "outputs": [],
   "source": [
    "df['Age'] = df['Age'].fillna(df['Age'].median())\n"
   ]
  },
  {
   "cell_type": "code",
   "execution_count": 424,
   "metadata": {},
   "outputs": [],
   "source": [
    "del df['Cabin']"
   ]
  },
  {
   "cell_type": "code",
   "execution_count": 425,
   "metadata": {},
   "outputs": [
    {
     "data": {
      "image/png": "[encoded data removed]",
      "text/plain": [
       "<Figure size 1080x576 with 1 Axes>"
      ]
     },
     "metadata": {
      "needs_background": "light"
     },
     "output_type": "display_data"
    }
   ],
   "source": [
    "# plot heatmap to check null values\n",
    "# 'cbar = False' does not show the color axis \n",
    "sns.heatmap(df.isnull(), cbar=False)\n",
    "\n",
    "# display the plot\n",
    "plt.show()"
   ]
  },
  {
   "cell_type": "code",
   "execution_count": null,
   "metadata": {},
   "outputs": [],
   "source": []
  },
  {
   "cell_type": "code",
   "execution_count": 426,
   "metadata": {},
   "outputs": [
    {
     "data": {
      "text/html": [
       "<div>\n",
       "<style scoped>\n",
       "    .dataframe tbody tr th:only-of-type {\n",
       "        vertical-align: middle;\n",
       "    }\n",
       "\n",
       "    .dataframe tbody tr th {\n",
       "        vertical-align: top;\n",
       "    }\n",
       "\n",
       "    .dataframe thead th {\n",
       "        text-align: right;\n",
       "    }\n",
       "</style>\n",
       "<table border=\"1\" class=\"dataframe\">\n",
       "  <thead>\n",
       "    <tr style=\"text-align: right;\">\n",
       "      <th></th>\n",
       "      <th>PassengerId</th>\n",
       "      <th>Survived</th>\n",
       "      <th>Pclass</th>\n",
       "      <th>Age</th>\n",
       "      <th>SibSp</th>\n",
       "      <th>Parch</th>\n",
       "      <th>Fare</th>\n",
       "    </tr>\n",
       "  </thead>\n",
       "  <tbody>\n",
       "    <tr>\n",
       "      <th>PassengerId</th>\n",
       "      <td>1.000000</td>\n",
       "      <td>-0.005007</td>\n",
       "      <td>-0.035144</td>\n",
       "      <td>0.034212</td>\n",
       "      <td>-0.057527</td>\n",
       "      <td>-0.001652</td>\n",
       "      <td>0.012658</td>\n",
       "    </tr>\n",
       "    <tr>\n",
       "      <th>Survived</th>\n",
       "      <td>-0.005007</td>\n",
       "      <td>1.000000</td>\n",
       "      <td>-0.338481</td>\n",
       "      <td>-0.064910</td>\n",
       "      <td>-0.035322</td>\n",
       "      <td>0.081629</td>\n",
       "      <td>0.257307</td>\n",
       "    </tr>\n",
       "    <tr>\n",
       "      <th>Pclass</th>\n",
       "      <td>-0.035144</td>\n",
       "      <td>-0.338481</td>\n",
       "      <td>1.000000</td>\n",
       "      <td>-0.339898</td>\n",
       "      <td>0.083081</td>\n",
       "      <td>0.018443</td>\n",
       "      <td>-0.549500</td>\n",
       "    </tr>\n",
       "    <tr>\n",
       "      <th>Age</th>\n",
       "      <td>0.034212</td>\n",
       "      <td>-0.064910</td>\n",
       "      <td>-0.339898</td>\n",
       "      <td>1.000000</td>\n",
       "      <td>-0.233296</td>\n",
       "      <td>-0.172482</td>\n",
       "      <td>0.096688</td>\n",
       "    </tr>\n",
       "    <tr>\n",
       "      <th>SibSp</th>\n",
       "      <td>-0.057527</td>\n",
       "      <td>-0.035322</td>\n",
       "      <td>0.083081</td>\n",
       "      <td>-0.233296</td>\n",
       "      <td>1.000000</td>\n",
       "      <td>0.414838</td>\n",
       "      <td>0.159651</td>\n",
       "    </tr>\n",
       "    <tr>\n",
       "      <th>Parch</th>\n",
       "      <td>-0.001652</td>\n",
       "      <td>0.081629</td>\n",
       "      <td>0.018443</td>\n",
       "      <td>-0.172482</td>\n",
       "      <td>0.414838</td>\n",
       "      <td>1.000000</td>\n",
       "      <td>0.216225</td>\n",
       "    </tr>\n",
       "    <tr>\n",
       "      <th>Fare</th>\n",
       "      <td>0.012658</td>\n",
       "      <td>0.257307</td>\n",
       "      <td>-0.549500</td>\n",
       "      <td>0.096688</td>\n",
       "      <td>0.159651</td>\n",
       "      <td>0.216225</td>\n",
       "      <td>1.000000</td>\n",
       "    </tr>\n",
       "  </tbody>\n",
       "</table>\n",
       "</div>"
      ],
      "text/plain": [
       "             PassengerId  Survived    Pclass       Age     SibSp     Parch  \\\n",
       "PassengerId     1.000000 -0.005007 -0.035144  0.034212 -0.057527 -0.001652   \n",
       "Survived       -0.005007  1.000000 -0.338481 -0.064910 -0.035322  0.081629   \n",
       "Pclass         -0.035144 -0.338481  1.000000 -0.339898  0.083081  0.018443   \n",
       "Age             0.034212 -0.064910 -0.339898  1.000000 -0.233296 -0.172482   \n",
       "SibSp          -0.057527 -0.035322  0.083081 -0.233296  1.000000  0.414838   \n",
       "Parch          -0.001652  0.081629  0.018443 -0.172482  0.414838  1.000000   \n",
       "Fare            0.012658  0.257307 -0.549500  0.096688  0.159651  0.216225   \n",
       "\n",
       "                 Fare  \n",
       "PassengerId  0.012658  \n",
       "Survived     0.257307  \n",
       "Pclass      -0.549500  \n",
       "Age          0.096688  \n",
       "SibSp        0.159651  \n",
       "Parch        0.216225  \n",
       "Fare         1.000000  "
      ]
     },
     "execution_count": 426,
     "metadata": {},
     "output_type": "execute_result"
    }
   ],
   "source": [
    "# use the corr() function to generate the correlation matrix of the numeric variables\n",
    "corrmat = df.corr()\n",
    "\n",
    "# print the correlation matrix\n",
    "corrmat"
   ]
  },
  {
   "cell_type": "code",
   "execution_count": 427,
   "metadata": {},
   "outputs": [
    {
     "data": {
      "image/png": "[encoded data removed]",
      "text/plain": [
       "<Figure size 1008x720 with 2 Axes>"
      ]
     },
     "metadata": {
      "needs_background": "light"
     },
     "output_type": "display_data"
    }
   ],
   "source": [
    "plt.figure(figsize=(14,10))\n",
    "sns.heatmap(df.corr(),annot=True)\n",
    "plt.show()"
   ]
  },
  {
   "cell_type": "code",
   "execution_count": 428,
   "metadata": {},
   "outputs": [
    {
     "data": {
      "text/plain": [
       "<AxesSubplot:>"
      ]
     },
     "execution_count": 428,
     "metadata": {},
     "output_type": "execute_result"
    },
    {
     "data": {
      "image/png": "[encoded data removed]",
      "text/plain": [
       "<Figure size 720x576 with 1 Axes>"
      ]
     },
     "metadata": {
      "needs_background": "light"
     },
     "output_type": "display_data"
    }
   ],
   "source": [
    "df.plot(kind='box', figsize= (10,8)) "
   ]
  },
  {
   "cell_type": "code",
   "execution_count": 429,
   "metadata": {},
   "outputs": [
    {
     "data": {
      "text/plain": [
       "Text(0.5, 1.0, 'Histogram of Age')"
      ]
     },
     "execution_count": 429,
     "metadata": {},
     "output_type": "execute_result"
    },
    {
     "data": {
      "image/png": "[encoded data removed]",
      "text/plain": [
       "<Figure size 1080x576 with 1 Axes>"
      ]
     },
     "metadata": {
      "needs_background": "light"
     },
     "output_type": "display_data"
    }
   ],
   "source": [
    "plt.hist(df.Age, bins = 'auto', facecolor = 'green')\n",
    "plt.xlabel('Age')\n",
    "plt.ylabel('counts')\n",
    "plt.title('Histogram of Age')\n"
   ]
  },
  {
   "cell_type": "code",
   "execution_count": 430,
   "metadata": {},
   "outputs": [
    {
     "data": {
      "text/plain": [
       "<AxesSubplot:xlabel='Age'>"
      ]
     },
     "execution_count": 430,
     "metadata": {},
     "output_type": "execute_result"
    },
    {
     "data": {
      "image/png": "[encoded data removed]",
      "text/plain": [
       "<Figure size 1080x576 with 1 Axes>"
      ]
     },
     "metadata": {
      "needs_background": "light"
     },
     "output_type": "display_data"
    }
   ],
   "source": [
    "sns.boxplot(df['Age'])"
   ]
  },
  {
   "cell_type": "code",
   "execution_count": 431,
   "metadata": {},
   "outputs": [
    {
     "data": {
      "text/plain": [
       "<AxesSubplot:>"
      ]
     },
     "execution_count": 431,
     "metadata": {},
     "output_type": "execute_result"
    },
    {
     "data": {
      "image/png": "[encoded data removed]",
      "text/plain": [
       "<Figure size 1080x576 with 1 Axes>"
      ]
     },
     "metadata": {
      "needs_background": "light"
     },
     "output_type": "display_data"
    }
   ],
   "source": [
    "#____boxplot\n",
    "props2 = dict(boxes = 'green', whiskers = 'red', medians = 'black', caps = 'blue')\n",
    "df['Age'].plot.box(color=props2, patch_artist = True, vert = False)"
   ]
  },
  {
   "cell_type": "code",
   "execution_count": 432,
   "metadata": {},
   "outputs": [
    {
     "data": {
      "text/plain": [
       "54.5"
      ]
     },
     "execution_count": 432,
     "metadata": {},
     "output_type": "execute_result"
    }
   ],
   "source": [
    "#Getting the Iqr, up_lim & low_lim\n",
    "iqr = df.Age.describe()['75%'] - df.Age.describe()['25%'] \n",
    "up_lim =df.Age.describe()['75%']+1.5*iqr \n",
    "up_lim"
   ]
  },
  {
   "cell_type": "code",
   "execution_count": 433,
   "metadata": {},
   "outputs": [
    {
     "data": {
      "text/plain": [
       "42"
      ]
     },
     "execution_count": 433,
     "metadata": {},
     "output_type": "execute_result"
    }
   ],
   "source": [
    "len(df.Age[df.Age > up_lim]) \n"
   ]
  },
  {
   "cell_type": "code",
   "execution_count": 434,
   "metadata": {},
   "outputs": [
    {
     "data": {
      "text/plain": [
       "74.0"
      ]
     },
     "execution_count": 434,
     "metadata": {},
     "output_type": "execute_result"
    }
   ],
   "source": [
    "up_lim_ext = df.Age.describe()['75%']+3*iqr\n",
    "up_lim_ext ###\n"
   ]
  },
  {
   "cell_type": "code",
   "execution_count": 435,
   "metadata": {},
   "outputs": [
    {
     "data": {
      "text/plain": [
       "1"
      ]
     },
     "execution_count": 435,
     "metadata": {},
     "output_type": "execute_result"
    }
   ],
   "source": [
    "len(df.Age[df.Age > up_lim_ext]) #16 Extreme outliers\n",
    "#Removed extreme outliers - 10 Observations were removed\n",
    "#hs = hs[hs.Property_Sale_Price <= 481000] "
   ]
  },
  {
   "cell_type": "code",
   "execution_count": 436,
   "metadata": {},
   "outputs": [],
   "source": [
    "#Removed extreme outliers - 10 Observations were removed\n",
    "df1 = df[df.Age <= 74.0] "
   ]
  },
  {
   "cell_type": "code",
   "execution_count": 437,
   "metadata": {},
   "outputs": [
    {
     "name": "stdout",
     "output_type": "stream",
     "text": [
      "<class 'pandas.core.frame.DataFrame'>\n",
      "Int64Index: 890 entries, 0 to 890\n",
      "Data columns (total 11 columns):\n",
      " #   Column       Non-Null Count  Dtype  \n",
      "---  ------       --------------  -----  \n",
      " 0   PassengerId  890 non-null    int64  \n",
      " 1   Survived     890 non-null    int64  \n",
      " 2   Pclass       890 non-null    int64  \n",
      " 3   Name         890 non-null    object \n",
      " 4   Sex          890 non-null    object \n",
      " 5   Age          890 non-null    float64\n",
      " 6   SibSp        890 non-null    int64  \n",
      " 7   Parch        890 non-null    int64  \n",
      " 8   Ticket       890 non-null    object \n",
      " 9   Fare         890 non-null    float64\n",
      " 10  Embarked     888 non-null    object \n",
      "dtypes: float64(2), int64(5), object(4)\n",
      "memory usage: 83.4+ KB\n"
     ]
    }
   ],
   "source": [
    "df1.info()"
   ]
  },
  {
   "cell_type": "code",
   "execution_count": 438,
   "metadata": {},
   "outputs": [
    {
     "name": "stdout",
     "output_type": "stream",
     "text": [
      "Q1 25 percentile of the given data is,  22.0\n",
      "Q2 50 percentile of the given data is,  28.0\n",
      "Q3 75 percentile of the given data is,  35.0\n",
      "Interquartile range is 13.0\n",
      "low_limit is 2.5\n",
      "up_limit is 54.5\n"
     ]
    }
   ],
   "source": [
    "Q1 = np.percentile(df.Age, 25, interpolation = 'midpoint')  \n",
    "Q2 = np.percentile(df.Age, 50, interpolation = 'midpoint')  \n",
    "Q3 = np.percentile(df.Age, 75, interpolation = 'midpoint')   \n",
    "print('Q1 25 percentile of the given data is, ', Q1) \n",
    "print('Q2 50 percentile of the given data is, ', Q2) \n",
    "print('Q3 75 percentile of the given data is, ', Q3)   \n",
    "IQR = Q3 - Q1  \n",
    "print('Interquartile range is', IQR) # 3.0\n",
    "low_lim = Q1 - 1.5 * IQR \n",
    "up_lim = Q3 + 1.5 * IQR # 346\n",
    "print('low_limit is', low_lim) \n",
    "print('up_limit is', up_lim) ###340000.0\n"
   ]
  },
  {
   "cell_type": "code",
   "execution_count": 439,
   "metadata": {},
   "outputs": [
    {
     "data": {
      "text/plain": [
       "217"
      ]
     },
     "execution_count": 439,
     "metadata": {},
     "output_type": "execute_result"
    }
   ],
   "source": [
    "len(df.Age[df.Age > 35])"
   ]
  },
  {
   "cell_type": "code",
   "execution_count": 440,
   "metadata": {},
   "outputs": [
    {
     "data": {
      "text/plain": [
       "0      22.0\n",
       "2      26.0\n",
       "5      28.0\n",
       "7       2.0\n",
       "8      27.0\n",
       "       ... \n",
       "886    27.0\n",
       "887    19.0\n",
       "888    28.0\n",
       "889    26.0\n",
       "890    32.0\n",
       "Name: Age, Length: 656, dtype: float64"
      ]
     },
     "execution_count": 440,
     "metadata": {},
     "output_type": "execute_result"
    }
   ],
   "source": [
    "len(df.Age[df.Age > 35])\n",
    "df1 = df[df.Age < 35]\n",
    "df1.Age\n"
   ]
  },
  {
   "cell_type": "code",
   "execution_count": 441,
   "metadata": {},
   "outputs": [],
   "source": [
    "df1 = df[df.Age < 74.0]"
   ]
  },
  {
   "cell_type": "code",
   "execution_count": 442,
   "metadata": {},
   "outputs": [],
   "source": [
    "df1 = df[df.Age > 35]"
   ]
  },
  {
   "cell_type": "code",
   "execution_count": 443,
   "metadata": {},
   "outputs": [
    {
     "data": {
      "text/plain": [
       "<AxesSubplot:>"
      ]
     },
     "execution_count": 443,
     "metadata": {},
     "output_type": "execute_result"
    },
    {
     "data": {
      "image/png": "[encoded data removed]",
      "text/plain": [
       "<Figure size 1080x576 with 1 Axes>"
      ]
     },
     "metadata": {
      "needs_background": "light"
     },
     "output_type": "display_data"
    }
   ],
   "source": [
    "#____boxplot\n",
    "props2 = dict(boxes = 'green', whiskers = 'red', medians = 'black', caps = 'blue')\n",
    "df1['Age'].plot.box(color=props2, patch_artist = True, vert = False)"
   ]
  },
  {
   "cell_type": "code",
   "execution_count": 444,
   "metadata": {},
   "outputs": [
    {
     "data": {
      "text/plain": [
       "1      38.0\n",
       "6      54.0\n",
       "11     58.0\n",
       "13     39.0\n",
       "15     55.0\n",
       "       ... \n",
       "865    42.0\n",
       "871    47.0\n",
       "873    47.0\n",
       "879    56.0\n",
       "885    39.0\n",
       "Name: Age, Length: 217, dtype: float64"
      ]
     },
     "execution_count": 444,
     "metadata": {},
     "output_type": "execute_result"
    }
   ],
   "source": [
    "df1.Age"
   ]
  },
  {
   "cell_type": "code",
   "execution_count": 445,
   "metadata": {},
   "outputs": [
    {
     "name": "stdout",
     "output_type": "stream",
     "text": [
      "There are 7 numerical variables\n"
     ]
    }
   ],
   "source": [
    "# Find all variables that are numerical\n",
    "numerical = [var for var in df.columns if df[var].dtype != 'O']\n",
    "print('There are {} numerical variables'.format(len(numerical)))"
   ]
  },
  {
   "cell_type": "code",
   "execution_count": 446,
   "metadata": {},
   "outputs": [
    {
     "name": "stdout",
     "output_type": "stream",
     "text": [
      "Survived  values:  [0 1]\n",
      "Pclass  values:  [3 1 2]\n",
      "SibSp  values:  [1 0 3 4 2 5 8]\n",
      "Parch  values:  [0 1 2 5 3 4 6]\n",
      "\n",
      "There are 4 numerical-discrete variables\n"
     ]
    }
   ],
   "source": [
    "# Extract the numerical-categorical variables from the numerical list\n",
    "\"\"\" numerical_categorical variables are expected to have very few and finite unique variables.20 is used as the\n",
    "    maximum limit for the numerical_categorical variables in this dataset but is not considered to be the standard\"\"\"\n",
    "numerical_discrete = []\n",
    "\n",
    "for var in numerical:\n",
    "      if len(df[var].unique())<=20:\n",
    "            print(var, ' values: ', df[var].unique())\n",
    "            numerical_discrete.append(var)\n",
    "print()\n",
    "print('There are {} numerical-discrete variables'.format(len(numerical_discrete)))"
   ]
  },
  {
   "cell_type": "code",
   "execution_count": null,
   "metadata": {},
   "outputs": [],
   "source": []
  },
  {
   "cell_type": "code",
   "execution_count": 447,
   "metadata": {},
   "outputs": [
    {
     "data": {
      "image/png": "[encoded data removed]",
      "text/plain": [
       "<Figure size 1080x576 with 9 Axes>"
      ]
     },
     "metadata": {
      "needs_background": "light"
     },
     "output_type": "display_data"
    }
   ],
   "source": [
    "# plot the histogram of numeric variables\n",
    "# the hist() function considers the numeric variables only, by default\n",
    "# rotate the x-axis labels by 20 degree using the parameter, 'xrot'\n",
    "df.hist(xrot = 20, )\n",
    "\n",
    "# adjust the subplots\n",
    "plt.tight_layout()\n",
    "\n",
    "# display the plot\n",
    "plt.show()  "
   ]
  },
  {
   "cell_type": "code",
   "execution_count": 448,
   "metadata": {},
   "outputs": [
    {
     "name": "stdout",
     "output_type": "stream",
     "text": [
      "Numerical Columns:  ['Age', 'SibSp', 'Pclass', 'Parch', 'Survived', 'Fare', 'PassengerId']\n",
      "\n",
      "Categorical Columns:  ['Name', 'Sex', 'Ticket', 'Embarked']\n"
     ]
    }
   ],
   "source": [
    "#selecting numerical variables\n",
    "numerical_features = list(df.select_dtypes(include=['int64','float64']).columns)\n",
    "numerical_features = list(set(numerical_features) - set(['Id']))\n",
    "print(\"Numerical Columns: \", numerical_features)\n",
    "\n",
    "#selecting categorical vairables\n",
    "categorical_features = list(df.select_dtypes(include='object').columns)\n",
    "print(\"\\nCategorical Columns: \", categorical_features)"
   ]
  },
  {
   "cell_type": "code",
   "execution_count": 449,
   "metadata": {},
   "outputs": [
    {
     "name": "stdout",
     "output_type": "stream",
     "text": [
      "\n",
      "Categorical Columns:  ['Name', 'Sex', 'Ticket', 'Embarked']\n"
     ]
    }
   ],
   "source": [
    "#selecting categorical vairables\n",
    "categorical_features = list(df.select_dtypes(include='object').columns)\n",
    "print(\"\\nCategorical Columns: \", categorical_features)"
   ]
  },
  {
   "cell_type": "code",
   "execution_count": 450,
   "metadata": {},
   "outputs": [
    {
     "name": "stdout",
     "output_type": "stream",
     "text": [
      "There are 3 numerical-continuous variables\n"
     ]
    },
    {
     "data": {
      "text/plain": [
       "['PassengerId', 'Age', 'Fare']"
      ]
     },
     "execution_count": 450,
     "metadata": {},
     "output_type": "execute_result"
    }
   ],
   "source": [
    "\"\"\"charges will be used later on as a target for regression analysis, so i'll skip it\"\"\"\n",
    "numerical_continuous = [var for var in numerical if var not in numerical_discrete and var != 'charges']\n",
    "print('There are {} numerical-continuous variables'.format(len(numerical_continuous))) \n",
    "numerical_continuous"
   ]
  },
  {
   "cell_type": "code",
   "execution_count": 451,
   "metadata": {},
   "outputs": [
    {
     "data": {
      "text/plain": [
       "<AxesSubplot:>"
      ]
     },
     "execution_count": 451,
     "metadata": {},
     "output_type": "execute_result"
    },
    {
     "data": {
      "image/png": "[encoded data removed]",
      "text/plain": [
       "<Figure size 864x576 with 1 Axes>"
      ]
     },
     "metadata": {
      "needs_background": "light"
     },
     "output_type": "display_data"
    }
   ],
   "source": [
    "df[numerical_continuous].plot(kind = 'box', figsize = (12, 8))"
   ]
  },
  {
   "cell_type": "code",
   "execution_count": 452,
   "metadata": {},
   "outputs": [
    {
     "data": {
      "text/plain": [
       "<AxesSubplot:>"
      ]
     },
     "execution_count": 452,
     "metadata": {},
     "output_type": "execute_result"
    },
    {
     "data": {
      "image/png": "[encoded data removed]",
      "text/plain": [
       "<Figure size 864x576 with 1 Axes>"
      ]
     },
     "metadata": {
      "needs_background": "light"
     },
     "output_type": "display_data"
    }
   ],
   "source": [
    "df_clean[numerical_discrete].plot(kind = 'box', figsize = (12, 8))"
   ]
  },
  {
   "cell_type": "code",
   "execution_count": 453,
   "metadata": {},
   "outputs": [],
   "source": [
    "df_clean = df.copy()"
   ]
  },
  {
   "cell_type": "code",
   "execution_count": 454,
   "metadata": {},
   "outputs": [
    {
     "name": "stdout",
     "output_type": "stream",
     "text": [
      "[1.73010796 1.72622007 1.72233219 1.71844431 1.71455642 1.71066854\n",
      " 1.70678066 1.70289278 1.69900489 1.69511701 1.69122913 1.68734124\n",
      " 1.68345336 1.67956548 1.67567759 1.67178971 1.66790183 1.66401395\n",
      " 1.66012606 1.65623818 1.6523503  1.64846241 1.64457453 1.64068665\n",
      " 1.63679876 1.63291088 1.629023   1.62513511 1.62124723 1.61735935\n",
      " 1.61347147 1.60958358 1.6056957  1.60180782 1.59791993 1.59403205\n",
      " 1.59014417 1.58625628 1.5823684  1.57848052 1.57459263 1.57070475\n",
      " 1.56681687 1.56292899 1.5590411  1.55515322 1.55126534 1.54737745\n",
      " 1.54348957 1.53960169 1.5357138  1.53182592 1.52793804 1.52405016\n",
      " 1.52016227 1.51627439 1.51238651 1.50849862 1.50461074 1.50072286\n",
      " 1.49683497 1.49294709 1.48905921 1.48517132 1.48128344 1.47739556\n",
      " 1.47350768 1.46961979 1.46573191 1.46184403 1.45795614 1.45406826\n",
      " 1.45018038 1.44629249 1.44240461 1.43851673 1.43462885 1.43074096\n",
      " 1.42685308 1.4229652  1.41907731 1.41518943 1.41130155 1.40741366\n",
      " 1.40352578 1.3996379  1.39575001 1.39186213 1.38797425 1.38408637\n",
      " 1.38019848 1.3763106  1.37242272 1.36853483 1.36464695 1.36075907\n",
      " 1.35687118 1.3529833  1.34909542 1.34520754 1.34131965 1.33743177\n",
      " 1.33354389 1.329656   1.32576812 1.32188024 1.31799235 1.31410447\n",
      " 1.31021659 1.3063287  1.30244082 1.29855294 1.29466506 1.29077717\n",
      " 1.28688929 1.28300141 1.27911352 1.27522564 1.27133776 1.26744987\n",
      " 1.26356199 1.25967411 1.25578622 1.25189834 1.24801046 1.24412258\n",
      " 1.24023469 1.23634681 1.23245893 1.22857104 1.22468316 1.22079528\n",
      " 1.21690739 1.21301951 1.20913163 1.20524375 1.20135586 1.19746798\n",
      " 1.1935801  1.18969221 1.18580433 1.18191645 1.17802856 1.17414068\n",
      " 1.1702528  1.16636491 1.16247703 1.15858915 1.15470127 1.15081338\n",
      " 1.1469255  1.14303762 1.13914973 1.13526185 1.13137397 1.12748608\n",
      " 1.1235982  1.11971032 1.11582244 1.11193455 1.10804667 1.10415879\n",
      " 1.1002709  1.09638302 1.09249514 1.08860725 1.08471937 1.08083149\n",
      " 1.0769436  1.07305572 1.06916784 1.06527996 1.06139207 1.05750419\n",
      " 1.05361631 1.04972842 1.04584054 1.04195266 1.03806477 1.03417689\n",
      " 1.03028901 1.02640113 1.02251324 1.01862536 1.01473748 1.01084959\n",
      " 1.00696171 1.00307383 0.99918594 0.99529806 0.99141018 0.98752229\n",
      " 0.98363441 0.97974653 0.97585865 0.97197076 0.96808288 0.964195\n",
      " 0.96030711 0.95641923 0.95253135 0.94864346 0.94475558 0.9408677\n",
      " 0.93697981 0.93309193 0.92920405 0.92531617 0.92142828 0.9175404\n",
      " 0.91365252 0.90976463 0.90587675 0.90198887 0.89810098 0.8942131\n",
      " 0.89032522 0.88643734 0.88254945 0.87866157 0.87477369 0.8708858\n",
      " 0.86699792 0.86311004 0.85922215 0.85533427 0.85144639 0.8475585\n",
      " 0.84367062 0.83978274 0.83589486 0.83200697 0.82811909 0.82423121\n",
      " 0.82034332 0.81645544 0.81256756 0.80867967 0.80479179 0.80090391\n",
      " 0.79701603 0.79312814 0.78924026 0.78535238 0.78146449 0.77757661\n",
      " 0.77368873 0.76980084 0.76591296 0.76202508 0.75813719 0.75424931\n",
      " 0.75036143 0.74647355 0.74258566 0.73869778 0.7348099  0.73092201\n",
      " 0.72703413 0.72314625 0.71925836 0.71537048 0.7114826  0.70759471\n",
      " 0.70370683 0.69981895 0.69593107 0.69204318 0.6881553  0.68426742\n",
      " 0.68037953 0.67649165 0.67260377 0.66871588 0.664828   0.66094012\n",
      " 0.65705224 0.65316435 0.64927647 0.64538859 0.6415007  0.63761282\n",
      " 0.63372494 0.62983705 0.62594917 0.62206129 0.6181734  0.61428552\n",
      " 0.61039764 0.60650976 0.60262187 0.59873399 0.59484611 0.59095822\n",
      " 0.58707034 0.58318246 0.57929457 0.57540669 0.57151881 0.56763093\n",
      " 0.56374304 0.55985516 0.55596728 0.55207939 0.54819151 0.54430363\n",
      " 0.54041574 0.53652786 0.53263998 0.52875209 0.52486421 0.52097633\n",
      " 0.51708845 0.51320056 0.50931268 0.5054248  0.50153691 0.49764903\n",
      " 0.49376115 0.48987326 0.48598538 0.4820975  0.47820962 0.47432173\n",
      " 0.47043385 0.46654597 0.46265808 0.4587702  0.45488232 0.45099443\n",
      " 0.44710655 0.44321867 0.43933078 0.4354429  0.43155502 0.42766714\n",
      " 0.42377925 0.41989137 0.41600349 0.4121156  0.40822772 0.40433984\n",
      " 0.40045195 0.39656407 0.39267619 0.3887883  0.38490042 0.38101254\n",
      " 0.37712466 0.37323677 0.36934889 0.36546101 0.36157312 0.35768524\n",
      " 0.35379736 0.34990947 0.34602159 0.34213371 0.33824583 0.33435794\n",
      " 0.33047006 0.32658218 0.32269429 0.31880641 0.31491853 0.31103064\n",
      " 0.30714276 0.30325488 0.29936699 0.29547911 0.29159123 0.28770335\n",
      " 0.28381546 0.27992758 0.2760397  0.27215181 0.26826393 0.26437605\n",
      " 0.26048816 0.25660028 0.2527124  0.24882452 0.24493663 0.24104875\n",
      " 0.23716087 0.23327298 0.2293851  0.22549722 0.22160933 0.21772145\n",
      " 0.21383357 0.20994568 0.2060578  0.20216992 0.19828204 0.19439415\n",
      " 0.19050627 0.18661839 0.1827305  0.17884262 0.17495474 0.17106685\n",
      " 0.16717897 0.16329109 0.15940321 0.15551532 0.15162744 0.14773956\n",
      " 0.14385167 0.13996379 0.13607591 0.13218802 0.12830014 0.12441226\n",
      " 0.12052437 0.11663649 0.11274861 0.10886073 0.10497284 0.10108496\n",
      " 0.09719708 0.09330919 0.08942131 0.08553343 0.08164554 0.07775766\n",
      " 0.07386978 0.06998189 0.06609401 0.06220613 0.05831825 0.05443036\n",
      " 0.05054248 0.0466546  0.04276671 0.03887883 0.03499095 0.03110306\n",
      " 0.02721518 0.0233273  0.01943942 0.01555153 0.01166365 0.00777577\n",
      " 0.00388788 0.         0.00388788 0.00777577 0.01166365 0.01555153\n",
      " 0.01943942 0.0233273  0.02721518 0.03110306 0.03499095 0.03887883\n",
      " 0.04276671 0.0466546  0.05054248 0.05443036 0.05831825 0.06220613\n",
      " 0.06609401 0.06998189 0.07386978 0.07775766 0.08164554 0.08553343\n",
      " 0.08942131 0.09330919 0.09719708 0.10108496 0.10497284 0.10886073\n",
      " 0.11274861 0.11663649 0.12052437 0.12441226 0.12830014 0.13218802\n",
      " 0.13607591 0.13996379 0.14385167 0.14773956 0.15162744 0.15551532\n",
      " 0.15940321 0.16329109 0.16717897 0.17106685 0.17495474 0.17884262\n",
      " 0.1827305  0.18661839 0.19050627 0.19439415 0.19828204 0.20216992\n",
      " 0.2060578  0.20994568 0.21383357 0.21772145 0.22160933 0.22549722\n",
      " 0.2293851  0.23327298 0.23716087 0.24104875 0.24493663 0.24882452\n",
      " 0.2527124  0.25660028 0.26048816 0.26437605 0.26826393 0.27215181\n",
      " 0.2760397  0.27992758 0.28381546 0.28770335 0.29159123 0.29547911\n",
      " 0.29936699 0.30325488 0.30714276 0.31103064 0.31491853 0.31880641\n",
      " 0.32269429 0.32658218 0.33047006 0.33435794 0.33824583 0.34213371\n",
      " 0.34602159 0.34990947 0.35379736 0.35768524 0.36157312 0.36546101\n",
      " 0.36934889 0.37323677 0.37712466 0.38101254 0.38490042 0.3887883\n",
      " 0.39267619 0.39656407 0.40045195 0.40433984 0.40822772 0.4121156\n",
      " 0.41600349 0.41989137 0.42377925 0.42766714 0.43155502 0.4354429\n",
      " 0.43933078 0.44321867 0.44710655 0.45099443 0.45488232 0.4587702\n",
      " 0.46265808 0.46654597 0.47043385 0.47432173 0.47820962 0.4820975\n",
      " 0.48598538 0.48987326 0.49376115 0.49764903 0.50153691 0.5054248\n",
      " 0.50931268 0.51320056 0.51708845 0.52097633 0.52486421 0.52875209\n",
      " 0.53263998 0.53652786 0.54041574 0.54430363 0.54819151 0.55207939\n",
      " 0.55596728 0.55985516 0.56374304 0.56763093 0.57151881 0.57540669\n",
      " 0.57929457 0.58318246 0.58707034 0.59095822 0.59484611 0.59873399\n",
      " 0.60262187 0.60650976 0.61039764 0.61428552 0.6181734  0.62206129\n",
      " 0.62594917 0.62983705 0.63372494 0.63761282 0.6415007  0.64538859\n",
      " 0.64927647 0.65316435 0.65705224 0.66094012 0.664828   0.66871588\n",
      " 0.67260377 0.67649165 0.68037953 0.68426742 0.6881553  0.69204318\n",
      " 0.69593107 0.69981895 0.70370683 0.70759471 0.7114826  0.71537048\n",
      " 0.71925836 0.72314625 0.72703413 0.73092201 0.7348099  0.73869778\n",
      " 0.74258566 0.74647355 0.75036143 0.75424931 0.75813719 0.76202508\n",
      " 0.76591296 0.76980084 0.77368873 0.77757661 0.78146449 0.78535238\n",
      " 0.78924026 0.79312814 0.79701603 0.80090391 0.80479179 0.80867967\n",
      " 0.81256756 0.81645544 0.82034332 0.82423121 0.82811909 0.83200697\n",
      " 0.83589486 0.83978274 0.84367062 0.8475585  0.85144639 0.85533427\n",
      " 0.85922215 0.86311004 0.86699792 0.8708858  0.87477369 0.87866157\n",
      " 0.88254945 0.88643734 0.89032522 0.8942131  0.89810098 0.90198887\n",
      " 0.90587675 0.90976463 0.91365252 0.9175404  0.92142828 0.92531617\n",
      " 0.92920405 0.93309193 0.93697981 0.9408677  0.94475558 0.94864346\n",
      " 0.95253135 0.95641923 0.96030711 0.964195   0.96808288 0.97197076\n",
      " 0.97585865 0.97974653 0.98363441 0.98752229 0.99141018 0.99529806\n",
      " 0.99918594 1.00307383 1.00696171 1.01084959 1.01473748 1.01862536\n",
      " 1.02251324 1.02640113 1.03028901 1.03417689 1.03806477 1.04195266\n",
      " 1.04584054 1.04972842 1.05361631 1.05750419 1.06139207 1.06527996\n",
      " 1.06916784 1.07305572 1.0769436  1.08083149 1.08471937 1.08860725\n",
      " 1.09249514 1.09638302 1.1002709  1.10415879 1.10804667 1.11193455\n",
      " 1.11582244 1.11971032 1.1235982  1.12748608 1.13137397 1.13526185\n",
      " 1.13914973 1.14303762 1.1469255  1.15081338 1.15470127 1.15858915\n",
      " 1.16247703 1.16636491 1.1702528  1.17414068 1.17802856 1.18191645\n",
      " 1.18580433 1.18969221 1.1935801  1.19746798 1.20135586 1.20524375\n",
      " 1.20913163 1.21301951 1.21690739 1.22079528 1.22468316 1.22857104\n",
      " 1.23245893 1.23634681 1.24023469 1.24412258 1.24801046 1.25189834\n",
      " 1.25578622 1.25967411 1.26356199 1.26744987 1.27133776 1.27522564\n",
      " 1.27911352 1.28300141 1.28688929 1.29077717 1.29466506 1.29855294\n",
      " 1.30244082 1.3063287  1.31021659 1.31410447 1.31799235 1.32188024\n",
      " 1.32576812 1.329656   1.33354389 1.33743177 1.34131965 1.34520754\n",
      " 1.34909542 1.3529833  1.35687118 1.36075907 1.36464695 1.36853483\n",
      " 1.37242272 1.3763106  1.38019848 1.38408637 1.38797425 1.39186213\n",
      " 1.39575001 1.3996379  1.40352578 1.40741366 1.41130155 1.41518943\n",
      " 1.41907731 1.4229652  1.42685308 1.43074096 1.43462885 1.43851673\n",
      " 1.44240461 1.44629249 1.45018038 1.45406826 1.45795614 1.46184403\n",
      " 1.46573191 1.46961979 1.47350768 1.47739556 1.48128344 1.48517132\n",
      " 1.48905921 1.49294709 1.49683497 1.50072286 1.50461074 1.50849862\n",
      " 1.51238651 1.51627439 1.52016227 1.52405016 1.52793804 1.53182592\n",
      " 1.5357138  1.53960169 1.54348957 1.54737745 1.55126534 1.55515322\n",
      " 1.5590411  1.56292899 1.56681687 1.57070475 1.57459263 1.57848052\n",
      " 1.5823684  1.58625628 1.59014417 1.59403205 1.59791993 1.60180782\n",
      " 1.6056957  1.60958358 1.61347147 1.61735935 1.62124723 1.62513511\n",
      " 1.629023   1.63291088 1.63679876 1.64068665 1.64457453 1.64846241\n",
      " 1.6523503  1.65623818 1.66012606 1.66401395 1.66790183 1.67178971\n",
      " 1.67567759 1.67956548 1.68345336 1.68734124 1.69122913 1.69511701\n",
      " 1.69900489 1.70289278 1.70678066 1.71066854 1.71455642 1.71844431\n",
      " 1.72233219 1.72622007 1.73010796]\n",
      "[0.78927234 1.2669898  1.2669898  1.2669898  0.78927234 0.78927234\n",
      " 0.78927234 0.78927234 1.2669898  1.2669898  1.2669898  1.2669898\n",
      " 0.78927234 0.78927234 0.78927234 1.2669898  0.78927234 1.2669898\n",
      " 0.78927234 1.2669898  0.78927234 1.2669898  1.2669898  1.2669898\n",
      " 0.78927234 1.2669898  0.78927234 0.78927234 1.2669898  0.78927234\n",
      " 0.78927234 1.2669898  1.2669898  0.78927234 0.78927234 0.78927234\n",
      " 1.2669898  0.78927234 0.78927234 1.2669898  0.78927234 0.78927234\n",
      " 0.78927234 1.2669898  1.2669898  0.78927234 0.78927234 1.2669898\n",
      " 0.78927234 0.78927234 0.78927234 0.78927234 1.2669898  1.2669898\n",
      " 0.78927234 1.2669898  1.2669898  0.78927234 1.2669898  0.78927234\n",
      " 0.78927234 1.2669898  0.78927234 0.78927234 0.78927234 1.2669898\n",
      " 1.2669898  0.78927234 1.2669898  0.78927234 0.78927234 0.78927234\n",
      " 0.78927234 0.78927234 1.2669898  0.78927234 0.78927234 0.78927234\n",
      " 1.2669898  1.2669898  0.78927234 1.2669898  1.2669898  0.78927234\n",
      " 1.2669898  1.2669898  0.78927234 0.78927234 1.2669898  0.78927234\n",
      " 0.78927234 0.78927234 0.78927234 0.78927234 0.78927234 0.78927234\n",
      " 0.78927234 1.2669898  1.2669898  0.78927234 0.78927234 0.78927234\n",
      " 0.78927234 0.78927234 0.78927234 0.78927234 1.2669898  1.2669898\n",
      " 0.78927234 1.2669898  0.78927234 0.78927234 0.78927234 0.78927234\n",
      " 0.78927234 0.78927234 0.78927234 0.78927234 0.78927234 0.78927234\n",
      " 0.78927234 0.78927234 0.78927234 1.2669898  0.78927234 1.2669898\n",
      " 0.78927234 1.2669898  1.2669898  0.78927234 0.78927234 0.78927234\n",
      " 0.78927234 1.2669898  0.78927234 0.78927234 1.2669898  0.78927234\n",
      " 0.78927234 0.78927234 0.78927234 1.2669898  1.2669898  0.78927234\n",
      " 0.78927234 0.78927234 1.2669898  0.78927234 0.78927234 0.78927234\n",
      " 0.78927234 1.2669898  0.78927234 0.78927234 0.78927234 0.78927234\n",
      " 1.2669898  0.78927234 0.78927234 0.78927234 0.78927234 1.2669898\n",
      " 0.78927234 0.78927234 0.78927234 1.2669898  1.2669898  0.78927234\n",
      " 0.78927234 0.78927234 0.78927234 0.78927234 1.2669898  0.78927234\n",
      " 0.78927234 0.78927234 0.78927234 0.78927234 0.78927234 0.78927234\n",
      " 0.78927234 0.78927234 0.78927234 1.2669898  1.2669898  0.78927234\n",
      " 1.2669898  1.2669898  0.78927234 0.78927234 1.2669898  0.78927234\n",
      " 1.2669898  1.2669898  1.2669898  1.2669898  0.78927234 0.78927234\n",
      " 1.2669898  0.78927234 0.78927234 0.78927234 0.78927234 0.78927234\n",
      " 1.2669898  0.78927234 0.78927234 1.2669898  1.2669898  1.2669898\n",
      " 0.78927234 1.2669898  0.78927234 0.78927234 0.78927234 1.2669898\n",
      " 1.2669898  0.78927234 1.2669898  0.78927234 1.2669898  0.78927234\n",
      " 0.78927234 0.78927234 1.2669898  0.78927234 1.2669898  0.78927234\n",
      " 0.78927234 0.78927234 1.2669898  0.78927234 0.78927234 1.2669898\n",
      " 0.78927234 0.78927234 0.78927234 1.2669898  0.78927234 0.78927234\n",
      " 0.78927234 1.2669898  0.78927234 0.78927234 0.78927234 0.78927234\n",
      " 0.78927234 1.2669898  1.2669898  0.78927234 0.78927234 0.78927234\n",
      " 0.78927234 0.78927234 0.78927234 1.2669898  1.2669898  1.2669898\n",
      " 1.2669898  1.2669898  0.78927234 1.2669898  0.78927234 0.78927234\n",
      " 0.78927234 0.78927234 0.78927234 1.2669898  1.2669898  1.2669898\n",
      " 0.78927234 1.2669898  1.2669898  0.78927234 1.2669898  1.2669898\n",
      " 0.78927234 0.78927234 0.78927234 1.2669898  0.78927234 0.78927234\n",
      " 0.78927234 1.2669898  0.78927234 0.78927234 1.2669898  0.78927234\n",
      " 1.2669898  1.2669898  1.2669898  1.2669898  0.78927234 0.78927234\n",
      " 0.78927234 0.78927234 0.78927234 0.78927234 1.2669898  1.2669898\n",
      " 1.2669898  1.2669898  0.78927234 1.2669898  0.78927234 1.2669898\n",
      " 1.2669898  1.2669898  0.78927234 1.2669898  1.2669898  1.2669898\n",
      " 0.78927234 0.78927234 0.78927234 1.2669898  1.2669898  0.78927234\n",
      " 1.2669898  1.2669898  0.78927234 0.78927234 1.2669898  1.2669898\n",
      " 0.78927234 1.2669898  0.78927234 1.2669898  1.2669898  1.2669898\n",
      " 1.2669898  0.78927234 0.78927234 0.78927234 1.2669898  0.78927234\n",
      " 0.78927234 1.2669898  1.2669898  0.78927234 1.2669898  1.2669898\n",
      " 0.78927234 0.78927234 0.78927234 1.2669898  1.2669898  1.2669898\n",
      " 1.2669898  0.78927234 0.78927234 0.78927234 0.78927234 0.78927234\n",
      " 0.78927234 0.78927234 1.2669898  0.78927234 1.2669898  1.2669898\n",
      " 0.78927234 0.78927234 0.78927234 0.78927234 0.78927234 0.78927234\n",
      " 1.2669898  1.2669898  1.2669898  1.2669898  1.2669898  0.78927234\n",
      " 0.78927234 0.78927234 0.78927234 1.2669898  1.2669898  0.78927234\n",
      " 0.78927234 0.78927234 1.2669898  1.2669898  0.78927234 1.2669898\n",
      " 0.78927234 0.78927234 0.78927234 1.2669898  0.78927234 1.2669898\n",
      " 1.2669898  1.2669898  0.78927234 1.2669898  1.2669898  0.78927234\n",
      " 0.78927234 0.78927234 0.78927234 1.2669898  1.2669898  0.78927234\n",
      " 0.78927234 0.78927234 0.78927234 0.78927234 0.78927234 1.2669898\n",
      " 0.78927234 0.78927234 0.78927234 0.78927234 1.2669898  0.78927234\n",
      " 1.2669898  0.78927234 1.2669898  1.2669898  0.78927234 0.78927234\n",
      " 0.78927234 0.78927234 0.78927234 0.78927234 0.78927234 0.78927234\n",
      " 1.2669898  1.2669898  0.78927234 1.2669898  1.2669898  1.2669898\n",
      " 1.2669898  0.78927234 0.78927234 1.2669898  0.78927234 1.2669898\n",
      " 0.78927234 0.78927234 1.2669898  0.78927234 0.78927234 1.2669898\n",
      " 1.2669898  1.2669898  1.2669898  1.2669898  1.2669898  1.2669898\n",
      " 0.78927234 0.78927234 0.78927234 1.2669898  0.78927234 1.2669898\n",
      " 0.78927234 1.2669898  1.2669898  0.78927234 1.2669898  0.78927234\n",
      " 0.78927234 0.78927234 0.78927234 0.78927234 0.78927234 0.78927234\n",
      " 0.78927234 1.2669898  0.78927234 0.78927234 1.2669898  1.2669898\n",
      " 0.78927234 0.78927234 0.78927234 0.78927234 0.78927234 1.2669898\n",
      " 0.78927234 0.78927234 0.78927234 1.2669898  1.2669898  0.78927234\n",
      " 1.2669898  0.78927234 0.78927234 1.2669898  0.78927234 0.78927234\n",
      " 0.78927234 0.78927234 0.78927234 0.78927234 1.2669898  0.78927234\n",
      " 0.78927234 0.78927234 0.78927234 0.78927234 0.78927234 0.78927234\n",
      " 1.2669898  0.78927234 1.2669898  1.2669898  0.78927234 1.2669898\n",
      " 1.2669898  0.78927234 1.2669898  1.2669898  0.78927234 0.78927234\n",
      " 1.2669898  0.78927234 1.2669898  0.78927234 1.2669898  0.78927234\n",
      " 0.78927234 1.2669898  0.78927234 0.78927234 1.2669898  0.78927234\n",
      " 0.78927234 0.78927234 1.2669898  0.78927234 0.78927234 1.2669898\n",
      " 0.78927234 1.2669898  0.78927234 1.2669898  0.78927234 1.2669898\n",
      " 1.2669898  0.78927234 0.78927234 1.2669898  0.78927234 0.78927234\n",
      " 1.2669898  1.2669898  0.78927234 1.2669898  1.2669898  0.78927234\n",
      " 0.78927234 1.2669898  1.2669898  0.78927234 1.2669898  0.78927234\n",
      " 1.2669898  1.2669898  0.78927234 0.78927234 0.78927234 0.78927234\n",
      " 0.78927234 0.78927234 0.78927234 0.78927234 0.78927234 1.2669898\n",
      " 1.2669898  1.2669898  1.2669898  1.2669898  0.78927234 0.78927234\n",
      " 1.2669898  1.2669898  0.78927234 1.2669898  1.2669898  1.2669898\n",
      " 0.78927234 0.78927234 0.78927234 1.2669898  0.78927234 1.2669898\n",
      " 0.78927234 0.78927234 0.78927234 1.2669898  0.78927234 0.78927234\n",
      " 0.78927234 0.78927234 1.2669898  0.78927234 0.78927234 1.2669898\n",
      " 1.2669898  0.78927234 0.78927234 0.78927234 1.2669898  0.78927234\n",
      " 0.78927234 1.2669898  1.2669898  1.2669898  0.78927234 0.78927234\n",
      " 1.2669898  0.78927234 0.78927234 1.2669898  0.78927234 0.78927234\n",
      " 1.2669898  0.78927234 0.78927234 1.2669898  1.2669898  0.78927234\n",
      " 0.78927234 0.78927234 0.78927234 1.2669898  0.78927234 0.78927234\n",
      " 1.2669898  0.78927234 1.2669898  0.78927234 0.78927234 1.2669898\n",
      " 0.78927234 0.78927234 0.78927234 0.78927234 0.78927234 1.2669898\n",
      " 0.78927234 1.2669898  1.2669898  1.2669898  0.78927234 1.2669898\n",
      " 0.78927234 1.2669898  0.78927234 1.2669898  0.78927234 1.2669898\n",
      " 0.78927234 0.78927234 0.78927234 0.78927234 0.78927234 0.78927234\n",
      " 1.2669898  0.78927234 0.78927234 0.78927234 1.2669898  0.78927234\n",
      " 0.78927234 0.78927234 0.78927234 1.2669898  1.2669898  0.78927234\n",
      " 0.78927234 1.2669898  0.78927234 0.78927234 0.78927234 1.2669898\n",
      " 0.78927234 1.2669898  0.78927234 1.2669898  0.78927234 0.78927234\n",
      " 0.78927234 0.78927234 0.78927234 0.78927234 0.78927234 1.2669898\n",
      " 1.2669898  1.2669898  1.2669898  0.78927234 0.78927234 0.78927234\n",
      " 0.78927234 1.2669898  0.78927234 0.78927234 1.2669898  1.2669898\n",
      " 0.78927234 0.78927234 0.78927234 0.78927234 1.2669898  1.2669898\n",
      " 1.2669898  1.2669898  1.2669898  0.78927234 1.2669898  0.78927234\n",
      " 0.78927234 0.78927234 1.2669898  1.2669898  0.78927234 0.78927234\n",
      " 1.2669898  0.78927234 0.78927234 0.78927234 1.2669898  0.78927234\n",
      " 1.2669898  1.2669898  0.78927234 0.78927234 1.2669898  0.78927234\n",
      " 0.78927234 0.78927234 0.78927234 0.78927234 0.78927234 1.2669898\n",
      " 0.78927234 0.78927234 1.2669898  0.78927234 1.2669898  0.78927234\n",
      " 1.2669898  0.78927234 0.78927234 1.2669898  0.78927234 0.78927234\n",
      " 1.2669898  1.2669898  0.78927234 0.78927234 1.2669898  1.2669898\n",
      " 0.78927234 0.78927234 0.78927234 1.2669898  0.78927234 0.78927234\n",
      " 1.2669898  1.2669898  0.78927234 1.2669898  0.78927234 0.78927234\n",
      " 0.78927234 0.78927234 0.78927234 0.78927234 0.78927234 0.78927234\n",
      " 1.2669898  0.78927234 0.78927234 1.2669898  0.78927234 1.2669898\n",
      " 1.2669898  1.2669898  0.78927234 0.78927234 0.78927234 0.78927234\n",
      " 1.2669898  0.78927234 1.2669898  0.78927234 0.78927234 0.78927234\n",
      " 0.78927234 0.78927234 0.78927234 0.78927234 1.2669898  1.2669898\n",
      " 0.78927234 0.78927234 0.78927234 1.2669898  1.2669898  1.2669898\n",
      " 1.2669898  0.78927234 0.78927234 0.78927234 0.78927234 1.2669898\n",
      " 0.78927234 0.78927234 0.78927234 0.78927234 0.78927234 0.78927234\n",
      " 0.78927234 0.78927234 0.78927234 0.78927234 1.2669898  1.2669898\n",
      " 0.78927234 1.2669898  0.78927234 0.78927234 0.78927234 1.2669898\n",
      " 1.2669898  1.2669898  1.2669898  1.2669898  0.78927234 0.78927234\n",
      " 0.78927234 1.2669898  0.78927234 0.78927234 1.2669898  1.2669898\n",
      " 0.78927234 0.78927234 1.2669898  0.78927234 0.78927234 0.78927234\n",
      " 0.78927234 0.78927234 0.78927234 1.2669898  0.78927234 0.78927234\n",
      " 0.78927234 1.2669898  0.78927234 1.2669898  1.2669898  1.2669898\n",
      " 1.2669898  0.78927234 0.78927234 0.78927234 1.2669898  0.78927234\n",
      " 0.78927234 1.2669898  1.2669898  0.78927234 0.78927234 1.2669898\n",
      " 0.78927234 1.2669898  0.78927234 0.78927234 1.2669898  1.2669898\n",
      " 0.78927234 0.78927234 0.78927234 1.2669898  1.2669898  0.78927234\n",
      " 0.78927234 0.78927234 0.78927234 0.78927234 0.78927234 1.2669898\n",
      " 0.78927234 1.2669898  0.78927234]\n",
      "[0.82737724 1.56610693 0.82737724 1.56610693 0.82737724 0.82737724\n",
      " 1.56610693 0.82737724 0.82737724 0.36936484 0.82737724 1.56610693\n",
      " 0.82737724 0.82737724 0.82737724 0.36936484 0.82737724 0.36936484\n",
      " 0.82737724 0.82737724 0.36936484 0.36936484 0.82737724 1.56610693\n",
      " 0.82737724 0.82737724 0.82737724 1.56610693 0.82737724 0.82737724\n",
      " 1.56610693 1.56610693 0.82737724 0.36936484 1.56610693 1.56610693\n",
      " 0.82737724 0.82737724 0.82737724 0.82737724 0.82737724 0.36936484\n",
      " 0.82737724 0.36936484 0.82737724 0.82737724 0.82737724 0.82737724\n",
      " 0.82737724 0.82737724 0.82737724 0.82737724 1.56610693 0.36936484\n",
      " 1.56610693 1.56610693 0.36936484 0.82737724 0.36936484 0.82737724\n",
      " 0.82737724 1.56610693 1.56610693 0.82737724 1.56610693 0.82737724\n",
      " 0.36936484 0.82737724 0.82737724 0.82737724 0.36936484 0.82737724\n",
      " 0.36936484 0.82737724 0.82737724 0.82737724 0.82737724 0.82737724\n",
      " 0.36936484 0.82737724 0.82737724 0.82737724 0.82737724 1.56610693\n",
      " 0.36936484 0.82737724 0.82737724 0.82737724 1.56610693 0.82737724\n",
      " 0.82737724 0.82737724 1.56610693 0.82737724 0.82737724 0.82737724\n",
      " 1.56610693 1.56610693 0.36936484 0.36936484 0.82737724 0.82737724\n",
      " 1.56610693 0.82737724 0.82737724 0.82737724 0.82737724 0.82737724\n",
      " 0.82737724 0.82737724 1.56610693 0.82737724 0.82737724 0.82737724\n",
      " 0.82737724 0.82737724 0.82737724 0.36936484 1.56610693 0.82737724\n",
      " 0.36936484 0.82737724 0.36936484 0.36936484 1.56610693 0.82737724\n",
      " 0.82737724 0.82737724 0.82737724 0.82737724 0.82737724 0.82737724\n",
      " 0.82737724 0.36936484 0.36936484 0.36936484 1.56610693 1.56610693\n",
      " 0.82737724 1.56610693 0.82737724 0.82737724 0.82737724 0.82737724\n",
      " 0.36936484 0.36936484 0.82737724 0.82737724 0.36936484 0.36936484\n",
      " 0.36936484 1.56610693 0.82737724 0.82737724 0.82737724 1.56610693\n",
      " 0.82737724 0.82737724 0.82737724 0.82737724 0.82737724 0.36936484\n",
      " 0.82737724 0.82737724 0.82737724 0.82737724 1.56610693 0.82737724\n",
      " 1.56610693 0.82737724 1.56610693 0.82737724 0.82737724 0.82737724\n",
      " 1.56610693 0.82737724 0.82737724 1.56610693 0.36936484 0.82737724\n",
      " 0.82737724 0.36936484 0.82737724 0.36936484 0.82737724 1.56610693\n",
      " 0.82737724 1.56610693 0.82737724 0.82737724 0.36936484 0.36936484\n",
      " 0.82737724 0.36936484 1.56610693 1.56610693 0.82737724 0.82737724\n",
      " 0.82737724 0.36936484 0.82737724 0.82737724 0.82737724 0.82737724\n",
      " 0.82737724 0.82737724 0.82737724 0.82737724 0.82737724 1.56610693\n",
      " 0.82737724 0.36936484 0.82737724 0.36936484 0.82737724 1.56610693\n",
      " 0.82737724 0.36936484 1.56610693 0.36936484 0.82737724 0.36936484\n",
      " 0.82737724 0.82737724 1.56610693 0.82737724 0.36936484 0.82737724\n",
      " 0.36936484 0.82737724 1.56610693 0.82737724 0.36936484 0.82737724\n",
      " 0.36936484 0.82737724 0.36936484 0.36936484 0.36936484 0.36936484\n",
      " 0.82737724 0.82737724 0.36936484 0.82737724 0.82737724 1.56610693\n",
      " 0.82737724 0.36936484 1.56610693 0.36936484 0.82737724 0.82737724\n",
      " 1.56610693 0.82737724 0.82737724 0.82737724 1.56610693 1.56610693\n",
      " 1.56610693 0.36936484 0.82737724 0.82737724 1.56610693 1.56610693\n",
      " 0.82737724 0.36936484 0.82737724 0.82737724 1.56610693 1.56610693\n",
      " 1.56610693 0.82737724 0.36936484 1.56610693 0.82737724 1.56610693\n",
      " 0.82737724 0.36936484 0.82737724 0.82737724 0.82737724 0.82737724\n",
      " 0.82737724 0.82737724 1.56610693 0.82737724 0.82737724 0.82737724\n",
      " 0.36936484 0.82737724 1.56610693 1.56610693 0.36936484 0.82737724\n",
      " 0.82737724 1.56610693 0.82737724 1.56610693 1.56610693 1.56610693\n",
      " 0.82737724 0.82737724 0.82737724 0.36936484 0.82737724 1.56610693\n",
      " 1.56610693 1.56610693 0.36936484 1.56610693 1.56610693 1.56610693\n",
      " 0.36936484 0.82737724 0.36936484 0.82737724 0.36936484 0.36936484\n",
      " 1.56610693 1.56610693 0.82737724 0.82737724 0.36936484 0.36936484\n",
      " 0.82737724 1.56610693 0.82737724 0.36936484 0.82737724 1.56610693\n",
      " 0.82737724 1.56610693 1.56610693 0.82737724 1.56610693 0.82737724\n",
      " 1.56610693 1.56610693 0.82737724 1.56610693 0.36936484 1.56610693\n",
      " 0.36936484 0.36936484 0.36936484 0.36936484 0.36936484 0.82737724\n",
      " 0.82737724 0.82737724 0.82737724 1.56610693 0.82737724 0.82737724\n",
      " 0.82737724 0.82737724 1.56610693 0.36936484 0.82737724 0.82737724\n",
      " 0.82737724 0.36936484 0.82737724 0.82737724 0.82737724 0.82737724\n",
      " 1.56610693 0.82737724 0.82737724 1.56610693 1.56610693 0.82737724\n",
      " 0.82737724 1.56610693 0.82737724 1.56610693 0.82737724 1.56610693\n",
      " 0.82737724 0.82737724 1.56610693 0.82737724 0.82737724 1.56610693\n",
      " 0.82737724 0.36936484 0.82737724 0.36936484 0.82737724 0.36936484\n",
      " 1.56610693 0.82737724 0.82737724 1.56610693 0.82737724 0.82737724\n",
      " 0.82737724 0.36936484 0.36936484 0.36936484 0.82737724 0.82737724\n",
      " 0.82737724 0.82737724 0.82737724 0.36936484 0.82737724 0.36936484\n",
      " 0.82737724 0.82737724 0.82737724 0.82737724 1.56610693 0.36936484\n",
      " 0.82737724 0.82737724 0.36936484 0.36936484 0.36936484 0.82737724\n",
      " 0.82737724 0.82737724 0.82737724 0.82737724 0.82737724 0.82737724\n",
      " 0.36936484 0.36936484 0.82737724 0.82737724 1.56610693 0.82737724\n",
      " 0.36936484 0.82737724 1.56610693 1.56610693 0.82737724 0.36936484\n",
      " 1.56610693 0.36936484 0.36936484 0.82737724 0.82737724 0.36936484\n",
      " 0.82737724 1.56610693 0.36936484 1.56610693 0.82737724 1.56610693\n",
      " 0.36936484 0.82737724 1.56610693 1.56610693 0.82737724 0.82737724\n",
      " 1.56610693 1.56610693 0.36936484 0.82737724 1.56610693 0.82737724\n",
      " 1.56610693 0.36936484 0.82737724 0.82737724 0.36936484 1.56610693\n",
      " 0.82737724 0.82737724 0.82737724 0.82737724 0.36936484 0.36936484\n",
      " 0.82737724 1.56610693 0.36936484 0.82737724 0.82737724 0.82737724\n",
      " 0.82737724 0.36936484 0.82737724 0.82737724 1.56610693 0.82737724\n",
      " 1.56610693 1.56610693 0.82737724 0.82737724 0.82737724 0.82737724\n",
      " 1.56610693 1.56610693 0.82737724 0.82737724 1.56610693 0.82737724\n",
      " 1.56610693 0.82737724 0.82737724 0.82737724 0.82737724 0.82737724\n",
      " 1.56610693 1.56610693 0.36936484 1.56610693 0.82737724 0.82737724\n",
      " 0.82737724 0.82737724 1.56610693 1.56610693 0.82737724 1.56610693\n",
      " 0.36936484 0.82737724 0.36936484 0.82737724 1.56610693 0.82737724\n",
      " 0.82737724 1.56610693 0.82737724 0.82737724 0.36936484 1.56610693\n",
      " 0.82737724 0.36936484 0.36936484 0.82737724 0.82737724 0.82737724\n",
      " 0.82737724 0.36936484 1.56610693 1.56610693 0.82737724 1.56610693\n",
      " 1.56610693 0.82737724 0.82737724 0.36936484 1.56610693 1.56610693\n",
      " 0.36936484 0.36936484 0.82737724 0.36936484 1.56610693 0.36936484\n",
      " 0.82737724 0.82737724 0.82737724 1.56610693 1.56610693 1.56610693\n",
      " 1.56610693 0.82737724 0.82737724 0.82737724 0.36936484 0.82737724\n",
      " 0.82737724 0.82737724 0.82737724 0.82737724 0.82737724 0.82737724\n",
      " 0.36936484 1.56610693 1.56610693 0.82737724 0.82737724 0.82737724\n",
      " 0.36936484 1.56610693 0.82737724 0.82737724 0.36936484 1.56610693\n",
      " 0.36936484 1.56610693 0.82737724 1.56610693 0.36936484 1.56610693\n",
      " 0.82737724 0.82737724 0.82737724 1.56610693 0.82737724 0.82737724\n",
      " 0.36936484 0.82737724 0.36936484 0.82737724 0.82737724 1.56610693\n",
      " 0.36936484 0.82737724 1.56610693 0.82737724 1.56610693 0.82737724\n",
      " 0.82737724 1.56610693 0.36936484 1.56610693 0.82737724 0.82737724\n",
      " 0.82737724 0.82737724 0.82737724 0.36936484 0.82737724 0.82737724\n",
      " 0.36936484 0.36936484 0.82737724 1.56610693 0.82737724 0.82737724\n",
      " 0.82737724 1.56610693 0.36936484 1.56610693 0.82737724 0.82737724\n",
      " 1.56610693 0.82737724 1.56610693 1.56610693 0.82737724 0.36936484\n",
      " 0.82737724 0.36936484 0.82737724 0.82737724 0.82737724 1.56610693\n",
      " 0.82737724 0.82737724 0.82737724 1.56610693 0.82737724 1.56610693\n",
      " 0.82737724 0.82737724 0.82737724 0.36936484 0.82737724 0.82737724\n",
      " 0.82737724 0.36936484 0.82737724 0.82737724 0.36936484 1.56610693\n",
      " 1.56610693 0.82737724 1.56610693 0.82737724 0.82737724 0.36936484\n",
      " 0.36936484 0.82737724 0.82737724 1.56610693 0.36936484 1.56610693\n",
      " 0.36936484 0.36936484 0.36936484 0.82737724 0.82737724 0.82737724\n",
      " 0.82737724 1.56610693 0.82737724 1.56610693 0.82737724 0.82737724\n",
      " 0.36936484 0.36936484 0.82737724 0.82737724 0.82737724 1.56610693\n",
      " 1.56610693 0.82737724 0.82737724 0.82737724 1.56610693 0.36936484\n",
      " 0.82737724 0.82737724 1.56610693 0.82737724 1.56610693 1.56610693\n",
      " 0.82737724 0.82737724 0.82737724 0.36936484 0.36936484 1.56610693\n",
      " 1.56610693 0.82737724 1.56610693 1.56610693 1.56610693 0.82737724\n",
      " 0.36936484 0.82737724 1.56610693 0.36936484 0.82737724 0.82737724\n",
      " 0.36936484 0.82737724 0.36936484 0.36936484 1.56610693 0.82737724\n",
      " 0.36936484 0.82737724 0.36936484 0.82737724 1.56610693 0.82737724\n",
      " 0.36936484 0.36936484 0.36936484 0.82737724 0.82737724 1.56610693\n",
      " 0.82737724 0.82737724 1.56610693 1.56610693 1.56610693 0.82737724\n",
      " 0.82737724 1.56610693 0.82737724 0.36936484 1.56610693 0.82737724\n",
      " 0.36936484 0.82737724 0.82737724 0.82737724 0.36936484 0.36936484\n",
      " 0.82737724 0.36936484 0.82737724 1.56610693 0.82737724 0.82737724\n",
      " 0.82737724 1.56610693 0.82737724 1.56610693 1.56610693 0.82737724\n",
      " 0.82737724 0.82737724 0.82737724 0.82737724 0.36936484 0.82737724\n",
      " 0.36936484 0.82737724 0.82737724 0.82737724 0.82737724 1.56610693\n",
      " 0.82737724 1.56610693 1.56610693 0.82737724 0.82737724 0.82737724\n",
      " 0.82737724 0.82737724 0.82737724 1.56610693 0.82737724 0.36936484\n",
      " 0.82737724 1.56610693 0.82737724 0.36936484 1.56610693 0.82737724\n",
      " 0.82737724 0.82737724 0.36936484 0.36936484 1.56610693 0.82737724\n",
      " 0.82737724 0.82737724 1.56610693 0.82737724 0.36936484 1.56610693\n",
      " 0.82737724 0.82737724 0.36936484 0.82737724 0.82737724 1.56610693\n",
      " 0.82737724 0.36936484 0.82737724 0.82737724 1.56610693 0.82737724\n",
      " 1.56610693 0.82737724 0.82737724 0.82737724 0.82737724 0.36936484\n",
      " 0.82737724 1.56610693 0.82737724 0.36936484 0.82737724 0.82737724\n",
      " 0.82737724 1.56610693 0.82737724 0.82737724 0.82737724 1.56610693\n",
      " 0.82737724 0.36936484 1.56610693 0.82737724 0.82737724 0.82737724\n",
      " 0.82737724 0.82737724 0.36936484 1.56610693 0.82737724 0.82737724\n",
      " 0.82737724 1.56610693 0.36936484 0.82737724 1.56610693 1.56610693\n",
      " 0.82737724 0.82737724 0.82737724 0.36936484 1.56610693 0.82737724\n",
      " 0.36936484 0.36936484 0.36936484 1.56610693 0.82737724 0.82737724\n",
      " 0.82737724 1.56610693 1.56610693 0.82737724 0.36936484 0.82737724\n",
      " 0.82737724 0.82737724 0.82737724 1.56610693 0.36936484 0.82737724\n",
      " 0.82737724 0.36936484 0.82737724 0.82737724 0.36936484 1.56610693\n",
      " 0.82737724 1.56610693 0.82737724]\n"
     ]
    },
    {
     "ename": "TypeError",
     "evalue": "unsupported operand type(s) for /: 'str' and 'int'",
     "output_type": "error",
     "traceback": [
      "\u001b[1;31m---------------------------------------------------------------------------\u001b[0m",
      "\u001b[1;31mTypeError\u001b[0m                                 Traceback (most recent call last)",
      "\u001b[1;32m<ipython-input-454-e30b2cb058d7>\u001b[0m in \u001b[0;36m<module>\u001b[1;34m\u001b[0m\n\u001b[0;32m      1\u001b[0m \u001b[1;32mfrom\u001b[0m \u001b[0mscipy\u001b[0m \u001b[1;32mimport\u001b[0m \u001b[0mstats\u001b[0m\u001b[1;33m\u001b[0m\u001b[1;33m\u001b[0m\u001b[0m\n\u001b[0;32m      2\u001b[0m \u001b[1;32mfor\u001b[0m \u001b[0mvar\u001b[0m \u001b[1;32min\u001b[0m \u001b[0mdf\u001b[0m\u001b[1;33m:\u001b[0m\u001b[1;33m\u001b[0m\u001b[1;33m\u001b[0m\u001b[0m\n\u001b[1;32m----> 3\u001b[1;33m     \u001b[0mzscore\u001b[0m \u001b[1;33m=\u001b[0m \u001b[0mnp\u001b[0m\u001b[1;33m.\u001b[0m\u001b[0mabs\u001b[0m\u001b[1;33m(\u001b[0m\u001b[0mstats\u001b[0m\u001b[1;33m.\u001b[0m\u001b[0mzscore\u001b[0m\u001b[1;33m(\u001b[0m\u001b[0mdf\u001b[0m\u001b[1;33m[\u001b[0m\u001b[0mvar\u001b[0m\u001b[1;33m]\u001b[0m\u001b[1;33m)\u001b[0m\u001b[1;33m)\u001b[0m\u001b[1;33m\u001b[0m\u001b[1;33m\u001b[0m\u001b[0m\n\u001b[0m\u001b[0;32m      4\u001b[0m     \u001b[0mprint\u001b[0m\u001b[1;33m(\u001b[0m\u001b[0mzscore\u001b[0m\u001b[1;33m)\u001b[0m\u001b[1;33m\u001b[0m\u001b[1;33m\u001b[0m\u001b[0m\n",
      "\u001b[1;32m~\\anaconda3\\lib\\site-packages\\scipy\\stats\\stats.py\u001b[0m in \u001b[0;36mzscore\u001b[1;34m(a, axis, ddof, nan_policy)\u001b[0m\n\u001b[0;32m   2557\u001b[0m             \u001b[0misconst\u001b[0m \u001b[1;33m=\u001b[0m \u001b[0mnp\u001b[0m\u001b[1;33m.\u001b[0m\u001b[0mapply_along_axis\u001b[0m\u001b[1;33m(\u001b[0m\u001b[0m_isconst\u001b[0m\u001b[1;33m,\u001b[0m \u001b[0maxis\u001b[0m\u001b[1;33m,\u001b[0m \u001b[0ma\u001b[0m\u001b[1;33m)\u001b[0m\u001b[1;33m\u001b[0m\u001b[1;33m\u001b[0m\u001b[0m\n\u001b[0;32m   2558\u001b[0m     \u001b[1;32melse\u001b[0m\u001b[1;33m:\u001b[0m\u001b[1;33m\u001b[0m\u001b[1;33m\u001b[0m\u001b[0m\n\u001b[1;32m-> 2559\u001b[1;33m         \u001b[0mmn\u001b[0m \u001b[1;33m=\u001b[0m \u001b[0ma\u001b[0m\u001b[1;33m.\u001b[0m\u001b[0mmean\u001b[0m\u001b[1;33m(\u001b[0m\u001b[0maxis\u001b[0m\u001b[1;33m=\u001b[0m\u001b[0maxis\u001b[0m\u001b[1;33m,\u001b[0m \u001b[0mkeepdims\u001b[0m\u001b[1;33m=\u001b[0m\u001b[1;32mTrue\u001b[0m\u001b[1;33m)\u001b[0m\u001b[1;33m\u001b[0m\u001b[1;33m\u001b[0m\u001b[0m\n\u001b[0m\u001b[0;32m   2560\u001b[0m         \u001b[0mstd\u001b[0m \u001b[1;33m=\u001b[0m \u001b[0ma\u001b[0m\u001b[1;33m.\u001b[0m\u001b[0mstd\u001b[0m\u001b[1;33m(\u001b[0m\u001b[0maxis\u001b[0m\u001b[1;33m=\u001b[0m\u001b[0maxis\u001b[0m\u001b[1;33m,\u001b[0m \u001b[0mddof\u001b[0m\u001b[1;33m=\u001b[0m\u001b[0mddof\u001b[0m\u001b[1;33m,\u001b[0m \u001b[0mkeepdims\u001b[0m\u001b[1;33m=\u001b[0m\u001b[1;32mTrue\u001b[0m\u001b[1;33m)\u001b[0m\u001b[1;33m\u001b[0m\u001b[1;33m\u001b[0m\u001b[0m\n\u001b[0;32m   2561\u001b[0m         \u001b[1;32mif\u001b[0m \u001b[0maxis\u001b[0m \u001b[1;32mis\u001b[0m \u001b[1;32mNone\u001b[0m\u001b[1;33m:\u001b[0m\u001b[1;33m\u001b[0m\u001b[1;33m\u001b[0m\u001b[0m\n",
      "\u001b[1;32m~\\anaconda3\\lib\\site-packages\\numpy\\core\\_methods.py\u001b[0m in \u001b[0;36m_mean\u001b[1;34m(a, axis, dtype, out, keepdims)\u001b[0m\n\u001b[0;32m    160\u001b[0m     \u001b[0mret\u001b[0m \u001b[1;33m=\u001b[0m \u001b[0mumr_sum\u001b[0m\u001b[1;33m(\u001b[0m\u001b[0marr\u001b[0m\u001b[1;33m,\u001b[0m \u001b[0maxis\u001b[0m\u001b[1;33m,\u001b[0m \u001b[0mdtype\u001b[0m\u001b[1;33m,\u001b[0m \u001b[0mout\u001b[0m\u001b[1;33m,\u001b[0m \u001b[0mkeepdims\u001b[0m\u001b[1;33m)\u001b[0m\u001b[1;33m\u001b[0m\u001b[1;33m\u001b[0m\u001b[0m\n\u001b[0;32m    161\u001b[0m     \u001b[1;32mif\u001b[0m \u001b[0misinstance\u001b[0m\u001b[1;33m(\u001b[0m\u001b[0mret\u001b[0m\u001b[1;33m,\u001b[0m \u001b[0mmu\u001b[0m\u001b[1;33m.\u001b[0m\u001b[0mndarray\u001b[0m\u001b[1;33m)\u001b[0m\u001b[1;33m:\u001b[0m\u001b[1;33m\u001b[0m\u001b[1;33m\u001b[0m\u001b[0m\n\u001b[1;32m--> 162\u001b[1;33m         ret = um.true_divide(\n\u001b[0m\u001b[0;32m    163\u001b[0m                 ret, rcount, out=ret, casting='unsafe', subok=False)\n\u001b[0;32m    164\u001b[0m         \u001b[1;32mif\u001b[0m \u001b[0mis_float16_result\u001b[0m \u001b[1;32mand\u001b[0m \u001b[0mout\u001b[0m \u001b[1;32mis\u001b[0m \u001b[1;32mNone\u001b[0m\u001b[1;33m:\u001b[0m\u001b[1;33m\u001b[0m\u001b[1;33m\u001b[0m\u001b[0m\n",
      "\u001b[1;31mTypeError\u001b[0m: unsupported operand type(s) for /: 'str' and 'int'"
     ]
    }
   ],
   "source": [
    "from scipy import stats\n",
    "for var in df:\n",
    "    zscore = np.abs(stats.zscore(df[var]))\n",
    "    print(zscore)"
   ]
  },
  {
   "cell_type": "code",
   "execution_count": 455,
   "metadata": {},
   "outputs": [
    {
     "data": {
      "text/html": [
       "<div>\n",
       "<style scoped>\n",
       "    .dataframe tbody tr th:only-of-type {\n",
       "        vertical-align: middle;\n",
       "    }\n",
       "\n",
       "    .dataframe tbody tr th {\n",
       "        vertical-align: top;\n",
       "    }\n",
       "\n",
       "    .dataframe thead th {\n",
       "        text-align: right;\n",
       "    }\n",
       "</style>\n",
       "<table border=\"1\" class=\"dataframe\">\n",
       "  <thead>\n",
       "    <tr style=\"text-align: right;\">\n",
       "      <th></th>\n",
       "      <th>PassengerId</th>\n",
       "      <th>Age</th>\n",
       "      <th>Fare</th>\n",
       "    </tr>\n",
       "  </thead>\n",
       "  <tbody>\n",
       "    <tr>\n",
       "      <th>0</th>\n",
       "      <td>-1.730108</td>\n",
       "      <td>-0.565736</td>\n",
       "      <td>-0.502445</td>\n",
       "    </tr>\n",
       "    <tr>\n",
       "      <th>1</th>\n",
       "      <td>-1.726220</td>\n",
       "      <td>0.663861</td>\n",
       "      <td>0.786845</td>\n",
       "    </tr>\n",
       "    <tr>\n",
       "      <th>2</th>\n",
       "      <td>-1.722332</td>\n",
       "      <td>-0.258337</td>\n",
       "      <td>-0.488854</td>\n",
       "    </tr>\n",
       "    <tr>\n",
       "      <th>3</th>\n",
       "      <td>-1.718444</td>\n",
       "      <td>0.433312</td>\n",
       "      <td>0.420730</td>\n",
       "    </tr>\n",
       "    <tr>\n",
       "      <th>4</th>\n",
       "      <td>-1.714556</td>\n",
       "      <td>0.433312</td>\n",
       "      <td>-0.486337</td>\n",
       "    </tr>\n",
       "    <tr>\n",
       "      <th>...</th>\n",
       "      <td>...</td>\n",
       "      <td>...</td>\n",
       "      <td>...</td>\n",
       "    </tr>\n",
       "    <tr>\n",
       "      <th>886</th>\n",
       "      <td>1.714556</td>\n",
       "      <td>-0.181487</td>\n",
       "      <td>-0.386671</td>\n",
       "    </tr>\n",
       "    <tr>\n",
       "      <th>887</th>\n",
       "      <td>1.718444</td>\n",
       "      <td>-0.796286</td>\n",
       "      <td>-0.044381</td>\n",
       "    </tr>\n",
       "    <tr>\n",
       "      <th>888</th>\n",
       "      <td>1.722332</td>\n",
       "      <td>-0.104637</td>\n",
       "      <td>-0.176263</td>\n",
       "    </tr>\n",
       "    <tr>\n",
       "      <th>889</th>\n",
       "      <td>1.726220</td>\n",
       "      <td>-0.258337</td>\n",
       "      <td>-0.044381</td>\n",
       "    </tr>\n",
       "    <tr>\n",
       "      <th>890</th>\n",
       "      <td>1.730108</td>\n",
       "      <td>0.202762</td>\n",
       "      <td>-0.492378</td>\n",
       "    </tr>\n",
       "  </tbody>\n",
       "</table>\n",
       "<p>891 rows × 3 columns</p>\n",
       "</div>"
      ],
      "text/plain": [
       "     PassengerId       Age      Fare\n",
       "0      -1.730108 -0.565736 -0.502445\n",
       "1      -1.726220  0.663861  0.786845\n",
       "2      -1.722332 -0.258337 -0.488854\n",
       "3      -1.718444  0.433312  0.420730\n",
       "4      -1.714556  0.433312 -0.486337\n",
       "..           ...       ...       ...\n",
       "886     1.714556 -0.181487 -0.386671\n",
       "887     1.718444 -0.796286 -0.044381\n",
       "888     1.722332 -0.104637 -0.176263\n",
       "889     1.726220 -0.258337 -0.044381\n",
       "890     1.730108  0.202762 -0.492378\n",
       "\n",
       "[891 rows x 3 columns]"
      ]
     },
     "execution_count": 455,
     "metadata": {},
     "output_type": "execute_result"
    }
   ],
   "source": [
    "df[numerical_continuous].apply(stats.zscore)"
   ]
  },
  {
   "cell_type": "code",
   "execution_count": 456,
   "metadata": {},
   "outputs": [
    {
     "data": {
      "text/html": [
       "<div>\n",
       "<style scoped>\n",
       "    .dataframe tbody tr th:only-of-type {\n",
       "        vertical-align: middle;\n",
       "    }\n",
       "\n",
       "    .dataframe tbody tr th {\n",
       "        vertical-align: top;\n",
       "    }\n",
       "\n",
       "    .dataframe thead th {\n",
       "        text-align: right;\n",
       "    }\n",
       "</style>\n",
       "<table border=\"1\" class=\"dataframe\">\n",
       "  <thead>\n",
       "    <tr style=\"text-align: right;\">\n",
       "      <th></th>\n",
       "      <th>Survived</th>\n",
       "      <th>Pclass</th>\n",
       "      <th>SibSp</th>\n",
       "      <th>Parch</th>\n",
       "    </tr>\n",
       "  </thead>\n",
       "  <tbody>\n",
       "    <tr>\n",
       "      <th>0</th>\n",
       "      <td>-0.789272</td>\n",
       "      <td>0.827377</td>\n",
       "      <td>0.432793</td>\n",
       "      <td>-0.473674</td>\n",
       "    </tr>\n",
       "    <tr>\n",
       "      <th>1</th>\n",
       "      <td>1.266990</td>\n",
       "      <td>-1.566107</td>\n",
       "      <td>0.432793</td>\n",
       "      <td>-0.473674</td>\n",
       "    </tr>\n",
       "    <tr>\n",
       "      <th>2</th>\n",
       "      <td>1.266990</td>\n",
       "      <td>0.827377</td>\n",
       "      <td>-0.474545</td>\n",
       "      <td>-0.473674</td>\n",
       "    </tr>\n",
       "    <tr>\n",
       "      <th>3</th>\n",
       "      <td>1.266990</td>\n",
       "      <td>-1.566107</td>\n",
       "      <td>0.432793</td>\n",
       "      <td>-0.473674</td>\n",
       "    </tr>\n",
       "    <tr>\n",
       "      <th>4</th>\n",
       "      <td>-0.789272</td>\n",
       "      <td>0.827377</td>\n",
       "      <td>-0.474545</td>\n",
       "      <td>-0.473674</td>\n",
       "    </tr>\n",
       "    <tr>\n",
       "      <th>...</th>\n",
       "      <td>...</td>\n",
       "      <td>...</td>\n",
       "      <td>...</td>\n",
       "      <td>...</td>\n",
       "    </tr>\n",
       "    <tr>\n",
       "      <th>886</th>\n",
       "      <td>-0.789272</td>\n",
       "      <td>-0.369365</td>\n",
       "      <td>-0.474545</td>\n",
       "      <td>-0.473674</td>\n",
       "    </tr>\n",
       "    <tr>\n",
       "      <th>887</th>\n",
       "      <td>1.266990</td>\n",
       "      <td>-1.566107</td>\n",
       "      <td>-0.474545</td>\n",
       "      <td>-0.473674</td>\n",
       "    </tr>\n",
       "    <tr>\n",
       "      <th>888</th>\n",
       "      <td>-0.789272</td>\n",
       "      <td>0.827377</td>\n",
       "      <td>0.432793</td>\n",
       "      <td>2.008933</td>\n",
       "    </tr>\n",
       "    <tr>\n",
       "      <th>889</th>\n",
       "      <td>1.266990</td>\n",
       "      <td>-1.566107</td>\n",
       "      <td>-0.474545</td>\n",
       "      <td>-0.473674</td>\n",
       "    </tr>\n",
       "    <tr>\n",
       "      <th>890</th>\n",
       "      <td>-0.789272</td>\n",
       "      <td>0.827377</td>\n",
       "      <td>-0.474545</td>\n",
       "      <td>-0.473674</td>\n",
       "    </tr>\n",
       "  </tbody>\n",
       "</table>\n",
       "<p>891 rows × 4 columns</p>\n",
       "</div>"
      ],
      "text/plain": [
       "     Survived    Pclass     SibSp     Parch\n",
       "0   -0.789272  0.827377  0.432793 -0.473674\n",
       "1    1.266990 -1.566107  0.432793 -0.473674\n",
       "2    1.266990  0.827377 -0.474545 -0.473674\n",
       "3    1.266990 -1.566107  0.432793 -0.473674\n",
       "4   -0.789272  0.827377 -0.474545 -0.473674\n",
       "..        ...       ...       ...       ...\n",
       "886 -0.789272 -0.369365 -0.474545 -0.473674\n",
       "887  1.266990 -1.566107 -0.474545 -0.473674\n",
       "888 -0.789272  0.827377  0.432793  2.008933\n",
       "889  1.266990 -1.566107 -0.474545 -0.473674\n",
       "890 -0.789272  0.827377 -0.474545 -0.473674\n",
       "\n",
       "[891 rows x 4 columns]"
      ]
     },
     "execution_count": 456,
     "metadata": {},
     "output_type": "execute_result"
    }
   ],
   "source": [
    "df[numerical_discrete].apply(stats.zscore)"
   ]
  },
  {
   "cell_type": "code",
   "execution_count": 457,
   "metadata": {},
   "outputs": [
    {
     "name": "stdout",
     "output_type": "stream",
     "text": [
      "<class 'pandas.core.frame.DataFrame'>\n",
      "RangeIndex: 891 entries, 0 to 890\n",
      "Data columns (total 11 columns):\n",
      " #   Column       Non-Null Count  Dtype  \n",
      "---  ------       --------------  -----  \n",
      " 0   PassengerId  891 non-null    int64  \n",
      " 1   Survived     891 non-null    int64  \n",
      " 2   Pclass       891 non-null    int64  \n",
      " 3   Name         891 non-null    object \n",
      " 4   Sex          891 non-null    object \n",
      " 5   Age          891 non-null    float64\n",
      " 6   SibSp        891 non-null    int64  \n",
      " 7   Parch        891 non-null    int64  \n",
      " 8   Ticket       891 non-null    object \n",
      " 9   Fare         891 non-null    float64\n",
      " 10  Embarked     889 non-null    object \n",
      "dtypes: float64(2), int64(5), object(4)\n",
      "memory usage: 76.7+ KB\n"
     ]
    }
   ],
   "source": [
    "df.info()"
   ]
  },
  {
   "cell_type": "code",
   "execution_count": 458,
   "metadata": {},
   "outputs": [],
   "source": [
    "df_clean = df.copy()"
   ]
  },
  {
   "cell_type": "code",
   "execution_count": 459,
   "metadata": {},
   "outputs": [],
   "source": [
    "# Treating outliers in the columns that have outliers\n",
    "zscore_Age = np.abs(stats.zscore(df['Age']))\n",
    "df_clean['Age'] = df_clean['Age'][(zscore_Age < 1)]\n",
    "zscore_Fare   = np.abs(stats.zscore(df['Fare']))\n",
    "df_clean['Fare'] = df_clean['Fare'][(zscore_Fare < 1)]\n",
    "zscore_SibSp   = np.abs(stats.zscore(df['SibSp']))\n",
    "df_clean['SibSp'] = df_clean['SibSp'][(zscore_SibSp < 1)]\n",
    "\n",
    "zscore_Parch    = np.abs(stats.zscore(df['Parch']))\n",
    "df_clean['Parch'] = df_clean['Parch'][(zscore_Parch  < 1)]\n"
   ]
  },
  {
   "cell_type": "code",
   "execution_count": 460,
   "metadata": {},
   "outputs": [
    {
     "name": "stdout",
     "output_type": "stream",
     "text": [
      "<class 'pandas.core.frame.DataFrame'>\n",
      "RangeIndex: 891 entries, 0 to 890\n",
      "Data columns (total 11 columns):\n",
      " #   Column       Non-Null Count  Dtype  \n",
      "---  ------       --------------  -----  \n",
      " 0   PassengerId  891 non-null    int64  \n",
      " 1   Survived     891 non-null    int64  \n",
      " 2   Pclass       891 non-null    int64  \n",
      " 3   Name         891 non-null    object \n",
      " 4   Sex          891 non-null    object \n",
      " 5   Age          662 non-null    float64\n",
      " 6   SibSp        817 non-null    float64\n",
      " 7   Parch        796 non-null    float64\n",
      " 8   Ticket       891 non-null    object \n",
      " 9   Fare         818 non-null    float64\n",
      " 10  Embarked     889 non-null    object \n",
      "dtypes: float64(4), int64(3), object(4)\n",
      "memory usage: 76.7+ KB\n"
     ]
    }
   ],
   "source": [
    "df_clean.info()"
   ]
  },
  {
   "cell_type": "code",
   "execution_count": 461,
   "metadata": {},
   "outputs": [
    {
     "data": {
      "text/plain": [
       "<AxesSubplot:>"
      ]
     },
     "execution_count": 461,
     "metadata": {},
     "output_type": "execute_result"
    },
    {
     "data": {
      "image/png": "[encoded data removed]",
      "text/plain": [
       "<Figure size 864x576 with 1 Axes>"
      ]
     },
     "metadata": {
      "needs_background": "light"
     },
     "output_type": "display_data"
    }
   ],
   "source": [
    "df_clean[numerical_continuous].plot(kind = 'box', figsize = (12, 8))"
   ]
  },
  {
   "cell_type": "code",
   "execution_count": 462,
   "metadata": {},
   "outputs": [
    {
     "data": {
      "text/plain": [
       "<AxesSubplot:>"
      ]
     },
     "execution_count": 462,
     "metadata": {},
     "output_type": "execute_result"
    },
    {
     "data": {
      "image/png": "[encoded data removed]",
      "text/plain": [
       "<Figure size 1080x576 with 1 Axes>"
      ]
     },
     "metadata": {
      "needs_background": "light"
     },
     "output_type": "display_data"
    }
   ],
   "source": [
    "props2 = dict(boxes = 'green', whiskers = 'red', medians = 'black', caps = 'blue')\n",
    "df_clean['Age'].plot.box(color=props2, patch_artist = True, vert = False)"
   ]
  },
  {
   "cell_type": "code",
   "execution_count": 463,
   "metadata": {},
   "outputs": [
    {
     "data": {
      "text/plain": [
       "<AxesSubplot:>"
      ]
     },
     "execution_count": 463,
     "metadata": {},
     "output_type": "execute_result"
    },
    {
     "data": {
      "image/png": "[encoded data removed]",
      "text/plain": [
       "<Figure size 1080x576 with 1 Axes>"
      ]
     },
     "metadata": {
      "needs_background": "light"
     },
     "output_type": "display_data"
    }
   ],
   "source": [
    "props2 = dict(boxes = 'green', whiskers = 'red', medians = 'black', caps = 'blue')\n",
    "df_clean['Fare'].plot.box(color=props2, patch_artist = True, vert = False)"
   ]
  },
  {
   "cell_type": "code",
   "execution_count": 464,
   "metadata": {},
   "outputs": [
    {
     "data": {
      "text/plain": [
       "<AxesSubplot:>"
      ]
     },
     "execution_count": 464,
     "metadata": {},
     "output_type": "execute_result"
    },
    {
     "data": {
      "image/png": "[encoded data removed]",
      "text/plain": [
       "<Figure size 1080x576 with 1 Axes>"
      ]
     },
     "metadata": {
      "needs_background": "light"
     },
     "output_type": "display_data"
    }
   ],
   "source": [
    "props2 = dict(boxes = 'green', whiskers = 'red', medians = 'black', caps = 'blue')\n",
    "df['Fare'].plot.box(color=props2, patch_artist = True, vert = False)"
   ]
  },
  {
   "cell_type": "code",
   "execution_count": 465,
   "metadata": {},
   "outputs": [
    {
     "data": {
      "text/plain": [
       "0       7.2500\n",
       "1      71.2833\n",
       "2       7.9250\n",
       "3      53.1000\n",
       "4       8.0500\n",
       "        ...   \n",
       "886    13.0000\n",
       "887    30.0000\n",
       "888    23.4500\n",
       "889    30.0000\n",
       "890     7.7500\n",
       "Name: Fare, Length: 891, dtype: float64"
      ]
     },
     "execution_count": 465,
     "metadata": {},
     "output_type": "execute_result"
    }
   ],
   "source": [
    "df_clean.Fare"
   ]
  },
  {
   "cell_type": "code",
   "execution_count": 466,
   "metadata": {},
   "outputs": [
    {
     "name": "stdout",
     "output_type": "stream",
     "text": [
      "<class 'pandas.core.frame.DataFrame'>\n",
      "RangeIndex: 891 entries, 0 to 890\n",
      "Data columns (total 11 columns):\n",
      " #   Column       Non-Null Count  Dtype  \n",
      "---  ------       --------------  -----  \n",
      " 0   PassengerId  891 non-null    int64  \n",
      " 1   Survived     891 non-null    int64  \n",
      " 2   Pclass       891 non-null    int64  \n",
      " 3   Name         891 non-null    object \n",
      " 4   Sex          891 non-null    object \n",
      " 5   Age          662 non-null    float64\n",
      " 6   SibSp        817 non-null    float64\n",
      " 7   Parch        796 non-null    float64\n",
      " 8   Ticket       891 non-null    object \n",
      " 9   Fare         818 non-null    float64\n",
      " 10  Embarked     889 non-null    object \n",
      "dtypes: float64(4), int64(3), object(4)\n",
      "memory usage: 76.7+ KB\n"
     ]
    }
   ],
   "source": [
    "df_clean.info()"
   ]
  },
  {
   "cell_type": "code",
   "execution_count": null,
   "metadata": {},
   "outputs": [],
   "source": []
  },
  {
   "cell_type": "code",
   "execution_count": 275,
   "metadata": {},
   "outputs": [
    {
     "name": "stdout",
     "output_type": "stream",
     "text": [
      "Q1 25 percentile of the given data is,  nan\n",
      "Q2 50 percentile of the given data is,  nan\n",
      "Q3 75 percentile of the given data is,  nan\n",
      "Interquartile range is nan\n",
      "low_limit is nan\n",
      "up_limit is nan\n"
     ]
    }
   ],
   "source": [
    "Q1 = np.percentile(df_clean.SibSp, 25, interpolation = 'midpoint')  \n",
    "Q2 = np.percentile(df_clean.SibSp, 50, interpolation = 'midpoint')  \n",
    "Q3 = np.percentile(df_clean.SibSp, 75, interpolation = 'midpoint')   \n",
    "print('Q1 25 percentile of the given data is, ', Q1) \n",
    "print('Q2 50 percentile of the given data is, ', Q2) \n",
    "print('Q3 75 percentile of the given data is, ', Q3)   \n",
    "IQR = Q3 - Q1  \n",
    "print('Interquartile range is', IQR) # 3.0\n",
    "low_lim = Q1 - 1.5 * IQR \n",
    "up_lim = Q3 + 1.5 * IQR # 346\n",
    "print('low_limit is', low_lim) \n",
    "print('up_limit is', up_lim) ###340000.0\n"
   ]
  },
  {
   "cell_type": "code",
   "execution_count": 276,
   "metadata": {},
   "outputs": [
    {
     "name": "stdout",
     "output_type": "stream",
     "text": [
      "Q1 25 percentile of the given data is,  nan\n",
      "Q2 50 percentile of the given data is,  nan\n",
      "Q3 75 percentile of the given data is,  nan\n",
      "Interquartile range is nan\n",
      "low_limit is nan\n",
      "up_limit is nan\n"
     ]
    }
   ],
   "source": [
    "Q1 = np.percentile(df_clean.SibSp, 25, interpolation = 'midpoint')  \n",
    "Q2 = np.percentile(df_clean.SibSp, 50, interpolation = 'midpoint')  \n",
    "Q3 = np.percentile(df_clean.SibSp, 75, interpolation = 'midpoint')   \n",
    "print('Q1 25 percentile of the given data is, ', Q1) \n",
    "print('Q2 50 percentile of the given data is, ', Q2) \n",
    "print('Q3 75 percentile of the given data is, ', Q3)   \n",
    "IQR = Q3 - Q1  \n",
    "print('Interquartile range is', IQR) # 3.0\n",
    "low_lim = Q1 - 1.5 * IQR \n",
    "up_lim = Q3 + 1.5 * IQR # 346\n",
    "print('low_limit is', low_lim) \n",
    "print('up_limit is', up_lim) ###340000.0\n"
   ]
  },
  {
   "cell_type": "code",
   "execution_count": 467,
   "metadata": {},
   "outputs": [
    {
     "name": "stdout",
     "output_type": "stream",
     "text": [
      "Q1 25 percentile of the given data is,  nan\n",
      "Q2 50 percentile of the given data is,  nan\n",
      "Q3 75 percentile of the given data is,  nan\n",
      "Interquartile range is nan\n",
      "low_limit is nan\n",
      "up_limit is nan\n"
     ]
    }
   ],
   "source": [
    "Q1 = np.percentile(df_clean.Parch, 25, interpolation = 'midpoint')  \n",
    "Q2 = np.percentile(df_clean.Parch, 50, interpolation = 'midpoint')  \n",
    "Q3 = np.percentile(df_clean.Parch, 75, interpolation = 'midpoint')   \n",
    "print('Q1 25 percentile of the given data is, ', Q1) \n",
    "print('Q2 50 percentile of the given data is, ', Q2) \n",
    "print('Q3 75 percentile of the given data is, ', Q3)   \n",
    "IQR = Q3 - Q1  \n",
    "print('Interquartile range is', IQR) # 3.0\n",
    "low_lim = Q1 - 1.5 * IQR \n",
    "up_lim = Q3 + 1.5 * IQR # 346\n",
    "print('low_limit is', low_lim) \n",
    "print('up_limit is', up_lim) ###340000.0\n"
   ]
  },
  {
   "cell_type": "code",
   "execution_count": 468,
   "metadata": {},
   "outputs": [
    {
     "data": {
      "text/plain": [
       "<AxesSubplot:>"
      ]
     },
     "execution_count": 468,
     "metadata": {},
     "output_type": "execute_result"
    },
    {
     "data": {
      "image/png": "[encoded data removed]",
      "text/plain": [
       "<Figure size 864x576 with 1 Axes>"
      ]
     },
     "metadata": {
      "needs_background": "light"
     },
     "output_type": "display_data"
    }
   ],
   "source": [
    "df_clean[numerical_discrete].plot(kind = 'box', figsize = (12, 8))"
   ]
  },
  {
   "cell_type": "code",
   "execution_count": 469,
   "metadata": {},
   "outputs": [
    {
     "name": "stdout",
     "output_type": "stream",
     "text": [
      "<class 'pandas.core.frame.DataFrame'>\n",
      "RangeIndex: 891 entries, 0 to 890\n",
      "Data columns (total 11 columns):\n",
      " #   Column       Non-Null Count  Dtype  \n",
      "---  ------       --------------  -----  \n",
      " 0   PassengerId  891 non-null    int64  \n",
      " 1   Survived     891 non-null    int64  \n",
      " 2   Pclass       891 non-null    int64  \n",
      " 3   Name         891 non-null    object \n",
      " 4   Sex          891 non-null    object \n",
      " 5   Age          662 non-null    float64\n",
      " 6   SibSp        817 non-null    float64\n",
      " 7   Parch        796 non-null    float64\n",
      " 8   Ticket       891 non-null    object \n",
      " 9   Fare         818 non-null    float64\n",
      " 10  Embarked     889 non-null    object \n",
      "dtypes: float64(4), int64(3), object(4)\n",
      "memory usage: 76.7+ KB\n"
     ]
    }
   ],
   "source": [
    "df_clean.info()"
   ]
  },
  {
   "cell_type": "markdown",
   "metadata": {},
   "source": [
    " ### TEST"
   ]
  },
  {
   "cell_type": "code",
   "execution_count": 470,
   "metadata": {},
   "outputs": [
    {
     "data": {
      "text/html": [
       "<div>\n",
       "<style scoped>\n",
       "    .dataframe tbody tr th:only-of-type {\n",
       "        vertical-align: middle;\n",
       "    }\n",
       "\n",
       "    .dataframe tbody tr th {\n",
       "        vertical-align: top;\n",
       "    }\n",
       "\n",
       "    .dataframe thead th {\n",
       "        text-align: right;\n",
       "    }\n",
       "</style>\n",
       "<table border=\"1\" class=\"dataframe\">\n",
       "  <thead>\n",
       "    <tr style=\"text-align: right;\">\n",
       "      <th></th>\n",
       "      <th>PassengerId</th>\n",
       "      <th>Pclass</th>\n",
       "      <th>Name</th>\n",
       "      <th>Sex</th>\n",
       "      <th>Age</th>\n",
       "      <th>SibSp</th>\n",
       "      <th>Parch</th>\n",
       "      <th>Ticket</th>\n",
       "      <th>Fare</th>\n",
       "      <th>Cabin</th>\n",
       "      <th>Embarked</th>\n",
       "    </tr>\n",
       "  </thead>\n",
       "  <tbody>\n",
       "    <tr>\n",
       "      <th>0</th>\n",
       "      <td>892</td>\n",
       "      <td>3</td>\n",
       "      <td>Kelly, Mr. James</td>\n",
       "      <td>male</td>\n",
       "      <td>34.5</td>\n",
       "      <td>0</td>\n",
       "      <td>0</td>\n",
       "      <td>330911</td>\n",
       "      <td>7.8292</td>\n",
       "      <td>NaN</td>\n",
       "      <td>Q</td>\n",
       "    </tr>\n",
       "    <tr>\n",
       "      <th>1</th>\n",
       "      <td>893</td>\n",
       "      <td>3</td>\n",
       "      <td>Wilkes, Mrs. James (Ellen Needs)</td>\n",
       "      <td>female</td>\n",
       "      <td>47.0</td>\n",
       "      <td>1</td>\n",
       "      <td>0</td>\n",
       "      <td>363272</td>\n",
       "      <td>7.0000</td>\n",
       "      <td>NaN</td>\n",
       "      <td>S</td>\n",
       "    </tr>\n",
       "    <tr>\n",
       "      <th>2</th>\n",
       "      <td>894</td>\n",
       "      <td>2</td>\n",
       "      <td>Myles, Mr. Thomas Francis</td>\n",
       "      <td>male</td>\n",
       "      <td>62.0</td>\n",
       "      <td>0</td>\n",
       "      <td>0</td>\n",
       "      <td>240276</td>\n",
       "      <td>9.6875</td>\n",
       "      <td>NaN</td>\n",
       "      <td>Q</td>\n",
       "    </tr>\n",
       "    <tr>\n",
       "      <th>3</th>\n",
       "      <td>895</td>\n",
       "      <td>3</td>\n",
       "      <td>Wirz, Mr. Albert</td>\n",
       "      <td>male</td>\n",
       "      <td>27.0</td>\n",
       "      <td>0</td>\n",
       "      <td>0</td>\n",
       "      <td>315154</td>\n",
       "      <td>8.6625</td>\n",
       "      <td>NaN</td>\n",
       "      <td>S</td>\n",
       "    </tr>\n",
       "    <tr>\n",
       "      <th>4</th>\n",
       "      <td>896</td>\n",
       "      <td>3</td>\n",
       "      <td>Hirvonen, Mrs. Alexander (Helga E Lindqvist)</td>\n",
       "      <td>female</td>\n",
       "      <td>22.0</td>\n",
       "      <td>1</td>\n",
       "      <td>1</td>\n",
       "      <td>3101298</td>\n",
       "      <td>12.2875</td>\n",
       "      <td>NaN</td>\n",
       "      <td>S</td>\n",
       "    </tr>\n",
       "  </tbody>\n",
       "</table>\n",
       "</div>"
      ],
      "text/plain": [
       "   PassengerId  Pclass                                          Name     Sex  \\\n",
       "0          892       3                              Kelly, Mr. James    male   \n",
       "1          893       3              Wilkes, Mrs. James (Ellen Needs)  female   \n",
       "2          894       2                     Myles, Mr. Thomas Francis    male   \n",
       "3          895       3                              Wirz, Mr. Albert    male   \n",
       "4          896       3  Hirvonen, Mrs. Alexander (Helga E Lindqvist)  female   \n",
       "\n",
       "    Age  SibSp  Parch   Ticket     Fare Cabin Embarked  \n",
       "0  34.5      0      0   330911   7.8292   NaN        Q  \n",
       "1  47.0      1      0   363272   7.0000   NaN        S  \n",
       "2  62.0      0      0   240276   9.6875   NaN        Q  \n",
       "3  27.0      0      0   315154   8.6625   NaN        S  \n",
       "4  22.0      1      1  3101298  12.2875   NaN        S  "
      ]
     },
     "execution_count": 470,
     "metadata": {},
     "output_type": "execute_result"
    }
   ],
   "source": [
    "# read the excel data file \n",
    "dft = pd.read_csv(\"C:\\\\Users\\\\USER\\\\Desktop\\\\KAGGLECOMP\\\\test.csv\")\n",
    "# display the top 5 rows of the dataframe\n",
    "dft.head()\n",
    "\n",
    "# Note: To display more rows, example 10, use head(10)"
   ]
  },
  {
   "cell_type": "code",
   "execution_count": 471,
   "metadata": {},
   "outputs": [
    {
     "data": {
      "text/plain": [
       "PassengerId      0\n",
       "Pclass           0\n",
       "Name             0\n",
       "Sex              0\n",
       "Age             86\n",
       "SibSp            0\n",
       "Parch            0\n",
       "Ticket           0\n",
       "Fare             1\n",
       "Cabin          327\n",
       "Embarked         0\n",
       "dtype: int64"
      ]
     },
     "execution_count": 471,
     "metadata": {},
     "output_type": "execute_result"
    }
   ],
   "source": [
    "dft.isnull().sum()"
   ]
  },
  {
   "cell_type": "code",
   "execution_count": 472,
   "metadata": {},
   "outputs": [
    {
     "data": {
      "image/png": "[encoded data removed]",
      "text/plain": [
       "<Figure size 1080x576 with 1 Axes>"
      ]
     },
     "metadata": {
      "needs_background": "light"
     },
     "output_type": "display_data"
    }
   ],
   "source": [
    "# plot heatmap to check null values\n",
    "# 'cbar = False' does not show the color axis \n",
    "sns.heatmap(dft.isnull(), cbar=False)\n",
    "\n",
    "# display the plot\n",
    "plt.show()"
   ]
  },
  {
   "cell_type": "code",
   "execution_count": 473,
   "metadata": {},
   "outputs": [],
   "source": [
    "dft['Age'] = dft['Age'].fillna(dft['Age'].median())\n"
   ]
  },
  {
   "cell_type": "code",
   "execution_count": 474,
   "metadata": {},
   "outputs": [],
   "source": [
    "del dft['Cabin']"
   ]
  },
  {
   "cell_type": "code",
   "execution_count": 475,
   "metadata": {},
   "outputs": [
    {
     "data": {
      "image/png": "[encoded data removed]",
      "text/plain": [
       "<Figure size 1080x576 with 1 Axes>"
      ]
     },
     "metadata": {
      "needs_background": "light"
     },
     "output_type": "display_data"
    }
   ],
   "source": [
    "# plot heatmap to check null values\n",
    "# 'cbar = False' does not show the color axis \n",
    "sns.heatmap(dft.isnull(), cbar=False)\n",
    "\n",
    "# display the plot\n",
    "plt.show()"
   ]
  },
  {
   "cell_type": "code",
   "execution_count": 476,
   "metadata": {},
   "outputs": [],
   "source": [
    "dft['Fare'] = dft['Fare'].fillna(dft['Fare'].median())"
   ]
  },
  {
   "cell_type": "code",
   "execution_count": 477,
   "metadata": {},
   "outputs": [
    {
     "data": {
      "image/png": "[encoded data removed]",
      "text/plain": [
       "<Figure size 1080x576 with 1 Axes>"
      ]
     },
     "metadata": {
      "needs_background": "light"
     },
     "output_type": "display_data"
    }
   ],
   "source": [
    "# plot heatmap to check null values\n",
    "# 'cbar = False' does not show the color axis \n",
    "sns.heatmap(dft.isnull(), cbar=False)\n",
    "\n",
    "# display the plot\n",
    "plt.show()"
   ]
  },
  {
   "cell_type": "code",
   "execution_count": 478,
   "metadata": {},
   "outputs": [
    {
     "name": "stdout",
     "output_type": "stream",
     "text": [
      "Numerical Columns:  ['Age', 'SibSp', 'Pclass', 'Parch', 'Fare', 'PassengerId']\n",
      "\n",
      "Categorical Columns:  ['Name', 'Sex', 'Ticket', 'Embarked']\n"
     ]
    }
   ],
   "source": [
    "#selecting numerical variables\n",
    "numerical_features = list(dft.select_dtypes(include=['int64','float64']).columns)\n",
    "numerical_features = list(set(numerical_features) - set(['Id']))\n",
    "print(\"Numerical Columns: \", numerical_features)\n",
    "\n",
    "#selecting categorical vairables\n",
    "categorical_features = list(dft.select_dtypes(include='object').columns)\n",
    "print(\"\\nCategorical Columns: \", categorical_features)"
   ]
  },
  {
   "cell_type": "code",
   "execution_count": 479,
   "metadata": {},
   "outputs": [
    {
     "name": "stdout",
     "output_type": "stream",
     "text": [
      "There are 4 categorical-categorical variables\n"
     ]
    },
    {
     "data": {
      "text/plain": [
       "['Name', 'Sex', 'Ticket', 'Embarked']"
      ]
     },
     "execution_count": 479,
     "metadata": {},
     "output_type": "execute_result"
    }
   ],
   "source": [
    "#Finding the non-encoded categorical variables\n",
    "categorical = [var for var in dft.columns if dft[var].dtype == 'O']\n",
    "print('There are {} categorical-categorical variables'.format(len(categorical)))\n",
    "categorical"
   ]
  },
  {
   "cell_type": "code",
   "execution_count": 480,
   "metadata": {},
   "outputs": [
    {
     "name": "stdout",
     "output_type": "stream",
     "text": [
      "<class 'pandas.core.frame.DataFrame'>\n",
      "RangeIndex: 418 entries, 0 to 417\n",
      "Data columns (total 10 columns):\n",
      " #   Column       Non-Null Count  Dtype  \n",
      "---  ------       --------------  -----  \n",
      " 0   PassengerId  418 non-null    int64  \n",
      " 1   Pclass       418 non-null    int64  \n",
      " 2   Name         418 non-null    object \n",
      " 3   Sex          418 non-null    object \n",
      " 4   Age          418 non-null    float64\n",
      " 5   SibSp        418 non-null    int64  \n",
      " 6   Parch        418 non-null    int64  \n",
      " 7   Ticket       418 non-null    object \n",
      " 8   Fare         418 non-null    float64\n",
      " 9   Embarked     418 non-null    object \n",
      "dtypes: float64(2), int64(4), object(4)\n",
      "memory usage: 32.8+ KB\n"
     ]
    }
   ],
   "source": [
    "dft.info()"
   ]
  },
  {
   "cell_type": "code",
   "execution_count": 481,
   "metadata": {},
   "outputs": [
    {
     "name": "stdout",
     "output_type": "stream",
     "text": [
      "There are 6 numerical variables\n"
     ]
    }
   ],
   "source": [
    "# Find all variables that are numerical\n",
    "numerical = [var for var in dft.columns if dft[var].dtype != 'O']\n",
    "print('There are {} numerical variables'.format(len(numerical)))"
   ]
  },
  {
   "cell_type": "code",
   "execution_count": 482,
   "metadata": {},
   "outputs": [
    {
     "name": "stdout",
     "output_type": "stream",
     "text": [
      "There are 3 numerical-continuous variables\n"
     ]
    },
    {
     "data": {
      "text/plain": [
       "['PassengerId', 'Age', 'Fare']"
      ]
     },
     "execution_count": 482,
     "metadata": {},
     "output_type": "execute_result"
    }
   ],
   "source": [
    "\"\"\"charges will be used later on as a target for regression analysis, so i'll skip it\"\"\"\n",
    "numerical_continuous = [var for var in numerical if var not in numerical_discrete and var != 'charges']\n",
    "print('There are {} numerical-continuous variables'.format(len(numerical_continuous))) \n",
    "numerical_continuous"
   ]
  },
  {
   "cell_type": "code",
   "execution_count": 483,
   "metadata": {},
   "outputs": [
    {
     "name": "stdout",
     "output_type": "stream",
     "text": [
      "Pclass  values:  [3 2 1]\n",
      "SibSp  values:  [0 1 2 3 4 5 8]\n",
      "Parch  values:  [0 1 3 2 4 6 5 9]\n",
      "\n",
      "There are 3 numerical-discrete variables\n"
     ]
    }
   ],
   "source": [
    "# Extract the numerical-categorical variables from the numerical list\n",
    "\"\"\" numerical_categorical variables are expected to have very few and finite unique variables.20 is used as the\n",
    "    maximum limit for the numerical_categorical variables in this dataset but is not considered to be the standard\"\"\"\n",
    "numerical_discrete = []\n",
    "\n",
    "for var in numerical:\n",
    "      if len(dft[var].unique())<=20:\n",
    "            print(var, ' values: ', dft[var].unique())\n",
    "            numerical_discrete.append(var)\n",
    "print()\n",
    "print('There are {} numerical-discrete variables'.format(len(numerical_discrete)))"
   ]
  },
  {
   "cell_type": "code",
   "execution_count": 484,
   "metadata": {},
   "outputs": [
    {
     "data": {
      "text/plain": [
       "<AxesSubplot:>"
      ]
     },
     "execution_count": 484,
     "metadata": {},
     "output_type": "execute_result"
    },
    {
     "data": {
      "image/png": "[encoded data removed]",
      "text/plain": [
       "<Figure size 864x576 with 1 Axes>"
      ]
     },
     "metadata": {
      "needs_background": "light"
     },
     "output_type": "display_data"
    }
   ],
   "source": [
    "dft[numerical_continuous].plot(kind = 'box', figsize = (12, 8))"
   ]
  },
  {
   "cell_type": "code",
   "execution_count": 485,
   "metadata": {},
   "outputs": [
    {
     "data": {
      "text/plain": [
       "<AxesSubplot:>"
      ]
     },
     "execution_count": 485,
     "metadata": {},
     "output_type": "execute_result"
    },
    {
     "data": {
      "image/png": "[encoded data removed]",
      "text/plain": [
       "<Figure size 864x576 with 1 Axes>"
      ]
     },
     "metadata": {
      "needs_background": "light"
     },
     "output_type": "display_data"
    }
   ],
   "source": [
    "dft[numerical_discrete].plot(kind = 'box', figsize = (12, 8))"
   ]
  },
  {
   "cell_type": "code",
   "execution_count": 486,
   "metadata": {},
   "outputs": [
    {
     "name": "stdout",
     "output_type": "stream",
     "text": [
      "[1.72791209 1.71962474 1.71133739 1.70305005 1.6947627  1.68647535\n",
      " 1.678188   1.66990065 1.6616133  1.65332596 1.64503861 1.63675126\n",
      " 1.62846391 1.62017656 1.61188922 1.60360187 1.59531452 1.58702717\n",
      " 1.57873982 1.57045248 1.56216513 1.55387778 1.54559043 1.53730308\n",
      " 1.52901573 1.52072839 1.51244104 1.50415369 1.49586634 1.48757899\n",
      " 1.47929165 1.4710043  1.46271695 1.4544296  1.44614225 1.4378549\n",
      " 1.42956756 1.42128021 1.41299286 1.40470551 1.39641816 1.38813082\n",
      " 1.37984347 1.37155612 1.36326877 1.35498142 1.34669407 1.33840673\n",
      " 1.33011938 1.32183203 1.31354468 1.30525733 1.29696999 1.28868264\n",
      " 1.28039529 1.27210794 1.26382059 1.25553325 1.2472459  1.23895855\n",
      " 1.2306712  1.22238385 1.2140965  1.20580916 1.19752181 1.18923446\n",
      " 1.18094711 1.17265976 1.16437242 1.15608507 1.14779772 1.13951037\n",
      " 1.13122302 1.12293567 1.11464833 1.10636098 1.09807363 1.08978628\n",
      " 1.08149893 1.07321159 1.06492424 1.05663689 1.04834954 1.04006219\n",
      " 1.03177485 1.0234875  1.01520015 1.0069128  0.99862545 0.9903381\n",
      " 0.98205076 0.97376341 0.96547606 0.95718871 0.94890136 0.94061402\n",
      " 0.93232667 0.92403932 0.91575197 0.90746462 0.89917727 0.89088993\n",
      " 0.88260258 0.87431523 0.86602788 0.85774053 0.84945319 0.84116584\n",
      " 0.83287849 0.82459114 0.81630379 0.80801644 0.7997291  0.79144175\n",
      " 0.7831544  0.77486705 0.7665797  0.75829236 0.75000501 0.74171766\n",
      " 0.73343031 0.72514296 0.71685562 0.70856827 0.70028092 0.69199357\n",
      " 0.68370622 0.67541887 0.66713153 0.65884418 0.65055683 0.64226948\n",
      " 0.63398213 0.62569479 0.61740744 0.60912009 0.60083274 0.59254539\n",
      " 0.58425804 0.5759707  0.56768335 0.559396   0.55110865 0.5428213\n",
      " 0.53453396 0.52624661 0.51795926 0.50967191 0.50138456 0.49309722\n",
      " 0.48480987 0.47652252 0.46823517 0.45994782 0.45166047 0.44337313\n",
      " 0.43508578 0.42679843 0.41851108 0.41022373 0.40193639 0.39364904\n",
      " 0.38536169 0.37707434 0.36878699 0.36049964 0.3522123  0.34392495\n",
      " 0.3356376  0.32735025 0.3190629  0.31077556 0.30248821 0.29420086\n",
      " 0.28591351 0.27762616 0.26933881 0.26105147 0.25276412 0.24447677\n",
      " 0.23618942 0.22790207 0.21961473 0.21132738 0.20304003 0.19475268\n",
      " 0.18646533 0.17817799 0.16989064 0.16160329 0.15331594 0.14502859\n",
      " 0.13674124 0.1284539  0.12016655 0.1118792  0.10359185 0.0953045\n",
      " 0.08701716 0.07872981 0.07044246 0.06215511 0.05386776 0.04558041\n",
      " 0.03729307 0.02900572 0.02071837 0.01243102 0.00414367 0.00414367\n",
      " 0.01243102 0.02071837 0.02900572 0.03729307 0.04558041 0.05386776\n",
      " 0.06215511 0.07044246 0.07872981 0.08701716 0.0953045  0.10359185\n",
      " 0.1118792  0.12016655 0.1284539  0.13674124 0.14502859 0.15331594\n",
      " 0.16160329 0.16989064 0.17817799 0.18646533 0.19475268 0.20304003\n",
      " 0.21132738 0.21961473 0.22790207 0.23618942 0.24447677 0.25276412\n",
      " 0.26105147 0.26933881 0.27762616 0.28591351 0.29420086 0.30248821\n",
      " 0.31077556 0.3190629  0.32735025 0.3356376  0.34392495 0.3522123\n",
      " 0.36049964 0.36878699 0.37707434 0.38536169 0.39364904 0.40193639\n",
      " 0.41022373 0.41851108 0.42679843 0.43508578 0.44337313 0.45166047\n",
      " 0.45994782 0.46823517 0.47652252 0.48480987 0.49309722 0.50138456\n",
      " 0.50967191 0.51795926 0.52624661 0.53453396 0.5428213  0.55110865\n",
      " 0.559396   0.56768335 0.5759707  0.58425804 0.59254539 0.60083274\n",
      " 0.60912009 0.61740744 0.62569479 0.63398213 0.64226948 0.65055683\n",
      " 0.65884418 0.66713153 0.67541887 0.68370622 0.69199357 0.70028092\n",
      " 0.70856827 0.71685562 0.72514296 0.73343031 0.74171766 0.75000501\n",
      " 0.75829236 0.7665797  0.77486705 0.7831544  0.79144175 0.7997291\n",
      " 0.80801644 0.81630379 0.82459114 0.83287849 0.84116584 0.84945319\n",
      " 0.85774053 0.86602788 0.87431523 0.88260258 0.89088993 0.89917727\n",
      " 0.90746462 0.91575197 0.92403932 0.93232667 0.94061402 0.94890136\n",
      " 0.95718871 0.96547606 0.97376341 0.98205076 0.9903381  0.99862545\n",
      " 1.0069128  1.01520015 1.0234875  1.03177485 1.04006219 1.04834954\n",
      " 1.05663689 1.06492424 1.07321159 1.08149893 1.08978628 1.09807363\n",
      " 1.10636098 1.11464833 1.12293567 1.13122302 1.13951037 1.14779772\n",
      " 1.15608507 1.16437242 1.17265976 1.18094711 1.18923446 1.19752181\n",
      " 1.20580916 1.2140965  1.22238385 1.2306712  1.23895855 1.2472459\n",
      " 1.25553325 1.26382059 1.27210794 1.28039529 1.28868264 1.29696999\n",
      " 1.30525733 1.31354468 1.32183203 1.33011938 1.33840673 1.34669407\n",
      " 1.35498142 1.36326877 1.37155612 1.37984347 1.38813082 1.39641816\n",
      " 1.40470551 1.41299286 1.42128021 1.42956756 1.4378549  1.44614225\n",
      " 1.4544296  1.46271695 1.4710043  1.47929165 1.48757899 1.49586634\n",
      " 1.50415369 1.51244104 1.52072839 1.52901573 1.53730308 1.54559043\n",
      " 1.55387778 1.56216513 1.57045248 1.57873982 1.58702717 1.59531452\n",
      " 1.60360187 1.61188922 1.62017656 1.62846391 1.63675126 1.64503861\n",
      " 1.65332596 1.6616133  1.66990065 1.678188   1.68647535 1.6947627\n",
      " 1.70305005 1.71133739 1.71962474 1.72791209]\n",
      "[0.87348191 0.87348191 0.31581919 0.87348191 0.87348191 0.87348191\n",
      " 0.87348191 0.31581919 0.87348191 0.87348191 0.87348191 1.50512029\n",
      " 1.50512029 0.31581919 1.50512029 0.31581919 0.31581919 0.87348191\n",
      " 0.87348191 0.87348191 1.50512029 0.87348191 1.50512029 1.50512029\n",
      " 1.50512029 0.87348191 1.50512029 0.87348191 1.50512029 0.87348191\n",
      " 0.31581919 0.31581919 0.87348191 0.87348191 1.50512029 0.87348191\n",
      " 0.87348191 0.87348191 0.87348191 0.87348191 0.87348191 1.50512029\n",
      " 0.87348191 0.31581919 1.50512029 0.87348191 1.50512029 0.87348191\n",
      " 1.50512029 0.87348191 1.50512029 0.31581919 0.31581919 1.50512029\n",
      " 0.31581919 0.87348191 0.87348191 0.87348191 0.87348191 1.50512029\n",
      " 0.87348191 0.31581919 0.87348191 0.87348191 1.50512029 0.31581919\n",
      " 0.87348191 1.50512029 1.50512029 1.50512029 0.87348191 0.87348191\n",
      " 0.87348191 1.50512029 1.50512029 1.50512029 0.87348191 1.50512029\n",
      " 0.31581919 0.87348191 0.87348191 1.50512029 1.50512029 0.87348191\n",
      " 0.31581919 0.87348191 0.87348191 0.87348191 0.87348191 0.31581919\n",
      " 0.87348191 0.87348191 1.50512029 0.87348191 1.50512029 0.87348191\n",
      " 1.50512029 0.87348191 0.87348191 0.87348191 1.50512029 0.31581919\n",
      " 0.87348191 0.87348191 0.87348191 0.87348191 0.87348191 0.87348191\n",
      " 0.87348191 0.31581919 0.31581919 0.87348191 1.50512029 0.87348191\n",
      " 1.50512029 0.87348191 0.87348191 0.87348191 1.50512029 0.31581919\n",
      " 0.31581919 0.87348191 1.50512029 0.87348191 0.87348191 0.87348191\n",
      " 0.87348191 0.87348191 0.31581919 0.87348191 0.87348191 1.50512029\n",
      " 0.87348191 0.87348191 0.87348191 0.87348191 0.87348191 0.31581919\n",
      " 0.87348191 0.87348191 0.87348191 1.50512029 1.50512029 0.31581919\n",
      " 1.50512029 0.87348191 1.50512029 0.87348191 1.50512029 0.31581919\n",
      " 1.50512029 0.87348191 0.87348191 0.87348191 0.87348191 0.87348191\n",
      " 1.50512029 0.87348191 1.50512029 0.87348191 0.87348191 0.87348191\n",
      " 0.31581919 0.87348191 0.31581919 0.87348191 1.50512029 0.87348191\n",
      " 1.50512029 0.87348191 0.87348191 0.87348191 0.87348191 0.87348191\n",
      " 0.87348191 0.31581919 0.31581919 1.50512029 0.31581919 1.50512029\n",
      " 0.31581919 1.50512029 1.50512029 0.87348191 1.50512029 0.31581919\n",
      " 0.31581919 0.87348191 0.87348191 0.31581919 0.31581919 1.50512029\n",
      " 0.87348191 0.31581919 0.31581919 0.87348191 1.50512029 0.87348191\n",
      " 0.31581919 0.87348191 0.87348191 0.87348191 1.50512029 0.31581919\n",
      " 0.31581919 1.50512029 0.87348191 0.31581919 1.50512029 0.87348191\n",
      " 0.87348191 0.87348191 0.31581919 0.31581919 0.87348191 1.50512029\n",
      " 0.87348191 1.50512029 1.50512029 0.87348191 0.31581919 0.87348191\n",
      " 0.31581919 0.87348191 1.50512029 0.87348191 0.87348191 0.87348191\n",
      " 0.87348191 0.31581919 0.31581919 1.50512029 0.87348191 0.87348191\n",
      " 1.50512029 0.87348191 1.50512029 0.87348191 0.31581919 1.50512029\n",
      " 1.50512029 0.31581919 1.50512029 0.87348191 0.87348191 1.50512029\n",
      " 0.31581919 0.31581919 0.31581919 0.87348191 0.31581919 0.87348191\n",
      " 1.50512029 0.87348191 0.87348191 0.87348191 0.87348191 0.87348191\n",
      " 0.31581919 0.87348191 0.87348191 0.87348191 0.31581919 0.87348191\n",
      " 0.31581919 0.87348191 1.50512029 0.87348191 0.87348191 0.87348191\n",
      " 1.50512029 0.87348191 1.50512029 0.87348191 0.87348191 0.31581919\n",
      " 0.31581919 0.31581919 0.31581919 0.31581919 0.87348191 0.87348191\n",
      " 0.87348191 0.87348191 0.87348191 0.87348191 0.87348191 1.50512029\n",
      " 0.87348191 0.87348191 1.50512029 0.87348191 0.87348191 1.50512029\n",
      " 0.87348191 0.87348191 0.31581919 0.87348191 1.50512029 0.87348191\n",
      " 0.87348191 0.31581919 0.31581919 0.87348191 0.87348191 1.50512029\n",
      " 1.50512029 0.87348191 1.50512029 0.87348191 0.87348191 0.87348191\n",
      " 0.87348191 0.87348191 1.50512029 0.87348191 1.50512029 0.31581919\n",
      " 0.87348191 0.31581919 0.87348191 0.87348191 0.31581919 1.50512029\n",
      " 1.50512029 0.87348191 0.31581919 1.50512029 0.31581919 0.31581919\n",
      " 0.31581919 1.50512029 0.87348191 0.87348191 0.87348191 1.50512029\n",
      " 0.31581919 0.87348191 0.31581919 0.87348191 0.31581919 0.87348191\n",
      " 0.87348191 1.50512029 0.87348191 0.87348191 0.31581919 0.87348191\n",
      " 0.31581919 0.31581919 1.50512029 0.31581919 0.31581919 0.31581919\n",
      " 0.87348191 1.50512029 1.50512029 0.87348191 0.87348191 0.87348191\n",
      " 0.87348191 0.31581919 0.31581919 0.87348191 1.50512029 0.87348191\n",
      " 0.87348191 0.87348191 1.50512029 0.31581919 0.31581919 1.50512029\n",
      " 1.50512029 0.31581919 1.50512029 1.50512029 0.87348191 0.31581919\n",
      " 1.50512029 0.87348191 0.87348191 0.87348191 0.87348191 0.87348191\n",
      " 0.31581919 0.31581919 0.87348191 0.31581919 0.87348191 0.87348191\n",
      " 1.50512029 1.50512029 0.87348191 0.31581919 0.87348191 1.50512029\n",
      " 0.87348191 1.50512029 0.87348191 0.87348191 1.50512029 0.31581919\n",
      " 1.50512029 1.50512029 1.50512029 0.31581919 0.31581919 1.50512029\n",
      " 0.87348191 0.87348191 0.87348191 1.50512029 0.87348191 0.87348191\n",
      " 1.50512029 0.87348191 0.87348191 0.87348191]\n"
     ]
    },
    {
     "ename": "TypeError",
     "evalue": "unsupported operand type(s) for /: 'str' and 'int'",
     "output_type": "error",
     "traceback": [
      "\u001b[1;31m---------------------------------------------------------------------------\u001b[0m",
      "\u001b[1;31mTypeError\u001b[0m                                 Traceback (most recent call last)",
      "\u001b[1;32m<ipython-input-486-34e108fb637d>\u001b[0m in \u001b[0;36m<module>\u001b[1;34m\u001b[0m\n\u001b[0;32m      1\u001b[0m \u001b[1;32mfrom\u001b[0m \u001b[0mscipy\u001b[0m \u001b[1;32mimport\u001b[0m \u001b[0mstats\u001b[0m\u001b[1;33m\u001b[0m\u001b[1;33m\u001b[0m\u001b[0m\n\u001b[0;32m      2\u001b[0m \u001b[1;32mfor\u001b[0m \u001b[0mvar\u001b[0m \u001b[1;32min\u001b[0m \u001b[0mdft\u001b[0m\u001b[1;33m:\u001b[0m\u001b[1;33m\u001b[0m\u001b[1;33m\u001b[0m\u001b[0m\n\u001b[1;32m----> 3\u001b[1;33m     \u001b[0mzscore\u001b[0m \u001b[1;33m=\u001b[0m \u001b[0mnp\u001b[0m\u001b[1;33m.\u001b[0m\u001b[0mabs\u001b[0m\u001b[1;33m(\u001b[0m\u001b[0mstats\u001b[0m\u001b[1;33m.\u001b[0m\u001b[0mzscore\u001b[0m\u001b[1;33m(\u001b[0m\u001b[0mdft\u001b[0m\u001b[1;33m[\u001b[0m\u001b[0mvar\u001b[0m\u001b[1;33m]\u001b[0m\u001b[1;33m)\u001b[0m\u001b[1;33m)\u001b[0m\u001b[1;33m\u001b[0m\u001b[1;33m\u001b[0m\u001b[0m\n\u001b[0m\u001b[0;32m      4\u001b[0m     \u001b[0mprint\u001b[0m\u001b[1;33m(\u001b[0m\u001b[0mzscore\u001b[0m\u001b[1;33m)\u001b[0m\u001b[1;33m\u001b[0m\u001b[1;33m\u001b[0m\u001b[0m\n",
      "\u001b[1;32m~\\anaconda3\\lib\\site-packages\\scipy\\stats\\stats.py\u001b[0m in \u001b[0;36mzscore\u001b[1;34m(a, axis, ddof, nan_policy)\u001b[0m\n\u001b[0;32m   2557\u001b[0m             \u001b[0misconst\u001b[0m \u001b[1;33m=\u001b[0m \u001b[0mnp\u001b[0m\u001b[1;33m.\u001b[0m\u001b[0mapply_along_axis\u001b[0m\u001b[1;33m(\u001b[0m\u001b[0m_isconst\u001b[0m\u001b[1;33m,\u001b[0m \u001b[0maxis\u001b[0m\u001b[1;33m,\u001b[0m \u001b[0ma\u001b[0m\u001b[1;33m)\u001b[0m\u001b[1;33m\u001b[0m\u001b[1;33m\u001b[0m\u001b[0m\n\u001b[0;32m   2558\u001b[0m     \u001b[1;32melse\u001b[0m\u001b[1;33m:\u001b[0m\u001b[1;33m\u001b[0m\u001b[1;33m\u001b[0m\u001b[0m\n\u001b[1;32m-> 2559\u001b[1;33m         \u001b[0mmn\u001b[0m \u001b[1;33m=\u001b[0m \u001b[0ma\u001b[0m\u001b[1;33m.\u001b[0m\u001b[0mmean\u001b[0m\u001b[1;33m(\u001b[0m\u001b[0maxis\u001b[0m\u001b[1;33m=\u001b[0m\u001b[0maxis\u001b[0m\u001b[1;33m,\u001b[0m \u001b[0mkeepdims\u001b[0m\u001b[1;33m=\u001b[0m\u001b[1;32mTrue\u001b[0m\u001b[1;33m)\u001b[0m\u001b[1;33m\u001b[0m\u001b[1;33m\u001b[0m\u001b[0m\n\u001b[0m\u001b[0;32m   2560\u001b[0m         \u001b[0mstd\u001b[0m \u001b[1;33m=\u001b[0m \u001b[0ma\u001b[0m\u001b[1;33m.\u001b[0m\u001b[0mstd\u001b[0m\u001b[1;33m(\u001b[0m\u001b[0maxis\u001b[0m\u001b[1;33m=\u001b[0m\u001b[0maxis\u001b[0m\u001b[1;33m,\u001b[0m \u001b[0mddof\u001b[0m\u001b[1;33m=\u001b[0m\u001b[0mddof\u001b[0m\u001b[1;33m,\u001b[0m \u001b[0mkeepdims\u001b[0m\u001b[1;33m=\u001b[0m\u001b[1;32mTrue\u001b[0m\u001b[1;33m)\u001b[0m\u001b[1;33m\u001b[0m\u001b[1;33m\u001b[0m\u001b[0m\n\u001b[0;32m   2561\u001b[0m         \u001b[1;32mif\u001b[0m \u001b[0maxis\u001b[0m \u001b[1;32mis\u001b[0m \u001b[1;32mNone\u001b[0m\u001b[1;33m:\u001b[0m\u001b[1;33m\u001b[0m\u001b[1;33m\u001b[0m\u001b[0m\n",
      "\u001b[1;32m~\\anaconda3\\lib\\site-packages\\numpy\\core\\_methods.py\u001b[0m in \u001b[0;36m_mean\u001b[1;34m(a, axis, dtype, out, keepdims)\u001b[0m\n\u001b[0;32m    160\u001b[0m     \u001b[0mret\u001b[0m \u001b[1;33m=\u001b[0m \u001b[0mumr_sum\u001b[0m\u001b[1;33m(\u001b[0m\u001b[0marr\u001b[0m\u001b[1;33m,\u001b[0m \u001b[0maxis\u001b[0m\u001b[1;33m,\u001b[0m \u001b[0mdtype\u001b[0m\u001b[1;33m,\u001b[0m \u001b[0mout\u001b[0m\u001b[1;33m,\u001b[0m \u001b[0mkeepdims\u001b[0m\u001b[1;33m)\u001b[0m\u001b[1;33m\u001b[0m\u001b[1;33m\u001b[0m\u001b[0m\n\u001b[0;32m    161\u001b[0m     \u001b[1;32mif\u001b[0m \u001b[0misinstance\u001b[0m\u001b[1;33m(\u001b[0m\u001b[0mret\u001b[0m\u001b[1;33m,\u001b[0m \u001b[0mmu\u001b[0m\u001b[1;33m.\u001b[0m\u001b[0mndarray\u001b[0m\u001b[1;33m)\u001b[0m\u001b[1;33m:\u001b[0m\u001b[1;33m\u001b[0m\u001b[1;33m\u001b[0m\u001b[0m\n\u001b[1;32m--> 162\u001b[1;33m         ret = um.true_divide(\n\u001b[0m\u001b[0;32m    163\u001b[0m                 ret, rcount, out=ret, casting='unsafe', subok=False)\n\u001b[0;32m    164\u001b[0m         \u001b[1;32mif\u001b[0m \u001b[0mis_float16_result\u001b[0m \u001b[1;32mand\u001b[0m \u001b[0mout\u001b[0m \u001b[1;32mis\u001b[0m \u001b[1;32mNone\u001b[0m\u001b[1;33m:\u001b[0m\u001b[1;33m\u001b[0m\u001b[1;33m\u001b[0m\u001b[0m\n",
      "\u001b[1;31mTypeError\u001b[0m: unsupported operand type(s) for /: 'str' and 'int'"
     ]
    }
   ],
   "source": [
    "from scipy import stats\n",
    "for var in dft:\n",
    "    zscore = np.abs(stats.zscore(dft[var]))\n",
    "    print(zscore)"
   ]
  },
  {
   "cell_type": "code",
   "execution_count": 487,
   "metadata": {},
   "outputs": [
    {
     "data": {
      "text/html": [
       "<div>\n",
       "<style scoped>\n",
       "    .dataframe tbody tr th:only-of-type {\n",
       "        vertical-align: middle;\n",
       "    }\n",
       "\n",
       "    .dataframe tbody tr th {\n",
       "        vertical-align: top;\n",
       "    }\n",
       "\n",
       "    .dataframe thead th {\n",
       "        text-align: right;\n",
       "    }\n",
       "</style>\n",
       "<table border=\"1\" class=\"dataframe\">\n",
       "  <thead>\n",
       "    <tr style=\"text-align: right;\">\n",
       "      <th></th>\n",
       "      <th>PassengerId</th>\n",
       "      <th>Age</th>\n",
       "      <th>Fare</th>\n",
       "    </tr>\n",
       "  </thead>\n",
       "  <tbody>\n",
       "    <tr>\n",
       "      <th>0</th>\n",
       "      <td>-1.727912</td>\n",
       "      <td>0.386231</td>\n",
       "      <td>-0.497413</td>\n",
       "    </tr>\n",
       "    <tr>\n",
       "      <th>1</th>\n",
       "      <td>-1.719625</td>\n",
       "      <td>1.371370</td>\n",
       "      <td>-0.512278</td>\n",
       "    </tr>\n",
       "    <tr>\n",
       "      <th>2</th>\n",
       "      <td>-1.711337</td>\n",
       "      <td>2.553537</td>\n",
       "      <td>-0.464100</td>\n",
       "    </tr>\n",
       "    <tr>\n",
       "      <th>3</th>\n",
       "      <td>-1.703050</td>\n",
       "      <td>-0.204852</td>\n",
       "      <td>-0.482475</td>\n",
       "    </tr>\n",
       "    <tr>\n",
       "      <th>4</th>\n",
       "      <td>-1.694763</td>\n",
       "      <td>-0.598908</td>\n",
       "      <td>-0.417492</td>\n",
       "    </tr>\n",
       "    <tr>\n",
       "      <th>...</th>\n",
       "      <td>...</td>\n",
       "      <td>...</td>\n",
       "      <td>...</td>\n",
       "    </tr>\n",
       "    <tr>\n",
       "      <th>413</th>\n",
       "      <td>1.694763</td>\n",
       "      <td>-0.204852</td>\n",
       "      <td>-0.493455</td>\n",
       "    </tr>\n",
       "    <tr>\n",
       "      <th>414</th>\n",
       "      <td>1.703050</td>\n",
       "      <td>0.740881</td>\n",
       "      <td>1.314435</td>\n",
       "    </tr>\n",
       "    <tr>\n",
       "      <th>415</th>\n",
       "      <td>1.711337</td>\n",
       "      <td>0.701476</td>\n",
       "      <td>-0.507796</td>\n",
       "    </tr>\n",
       "    <tr>\n",
       "      <th>416</th>\n",
       "      <td>1.719625</td>\n",
       "      <td>-0.204852</td>\n",
       "      <td>-0.493455</td>\n",
       "    </tr>\n",
       "    <tr>\n",
       "      <th>417</th>\n",
       "      <td>1.727912</td>\n",
       "      <td>-0.204852</td>\n",
       "      <td>-0.236957</td>\n",
       "    </tr>\n",
       "  </tbody>\n",
       "</table>\n",
       "<p>418 rows × 3 columns</p>\n",
       "</div>"
      ],
      "text/plain": [
       "     PassengerId       Age      Fare\n",
       "0      -1.727912  0.386231 -0.497413\n",
       "1      -1.719625  1.371370 -0.512278\n",
       "2      -1.711337  2.553537 -0.464100\n",
       "3      -1.703050 -0.204852 -0.482475\n",
       "4      -1.694763 -0.598908 -0.417492\n",
       "..           ...       ...       ...\n",
       "413     1.694763 -0.204852 -0.493455\n",
       "414     1.703050  0.740881  1.314435\n",
       "415     1.711337  0.701476 -0.507796\n",
       "416     1.719625 -0.204852 -0.493455\n",
       "417     1.727912 -0.204852 -0.236957\n",
       "\n",
       "[418 rows x 3 columns]"
      ]
     },
     "execution_count": 487,
     "metadata": {},
     "output_type": "execute_result"
    }
   ],
   "source": [
    "dft[numerical_continuous].apply(stats.zscore)"
   ]
  },
  {
   "cell_type": "code",
   "execution_count": 488,
   "metadata": {},
   "outputs": [
    {
     "data": {
      "text/html": [
       "<div>\n",
       "<style scoped>\n",
       "    .dataframe tbody tr th:only-of-type {\n",
       "        vertical-align: middle;\n",
       "    }\n",
       "\n",
       "    .dataframe tbody tr th {\n",
       "        vertical-align: top;\n",
       "    }\n",
       "\n",
       "    .dataframe thead th {\n",
       "        text-align: right;\n",
       "    }\n",
       "</style>\n",
       "<table border=\"1\" class=\"dataframe\">\n",
       "  <thead>\n",
       "    <tr style=\"text-align: right;\">\n",
       "      <th></th>\n",
       "      <th>Pclass</th>\n",
       "      <th>SibSp</th>\n",
       "      <th>Parch</th>\n",
       "    </tr>\n",
       "  </thead>\n",
       "  <tbody>\n",
       "    <tr>\n",
       "      <th>0</th>\n",
       "      <td>0.873482</td>\n",
       "      <td>-0.499470</td>\n",
       "      <td>-0.400248</td>\n",
       "    </tr>\n",
       "    <tr>\n",
       "      <th>1</th>\n",
       "      <td>0.873482</td>\n",
       "      <td>0.616992</td>\n",
       "      <td>-0.400248</td>\n",
       "    </tr>\n",
       "    <tr>\n",
       "      <th>2</th>\n",
       "      <td>-0.315819</td>\n",
       "      <td>-0.499470</td>\n",
       "      <td>-0.400248</td>\n",
       "    </tr>\n",
       "    <tr>\n",
       "      <th>3</th>\n",
       "      <td>0.873482</td>\n",
       "      <td>-0.499470</td>\n",
       "      <td>-0.400248</td>\n",
       "    </tr>\n",
       "    <tr>\n",
       "      <th>4</th>\n",
       "      <td>0.873482</td>\n",
       "      <td>0.616992</td>\n",
       "      <td>0.619896</td>\n",
       "    </tr>\n",
       "    <tr>\n",
       "      <th>...</th>\n",
       "      <td>...</td>\n",
       "      <td>...</td>\n",
       "      <td>...</td>\n",
       "    </tr>\n",
       "    <tr>\n",
       "      <th>413</th>\n",
       "      <td>0.873482</td>\n",
       "      <td>-0.499470</td>\n",
       "      <td>-0.400248</td>\n",
       "    </tr>\n",
       "    <tr>\n",
       "      <th>414</th>\n",
       "      <td>-1.505120</td>\n",
       "      <td>-0.499470</td>\n",
       "      <td>-0.400248</td>\n",
       "    </tr>\n",
       "    <tr>\n",
       "      <th>415</th>\n",
       "      <td>0.873482</td>\n",
       "      <td>-0.499470</td>\n",
       "      <td>-0.400248</td>\n",
       "    </tr>\n",
       "    <tr>\n",
       "      <th>416</th>\n",
       "      <td>0.873482</td>\n",
       "      <td>-0.499470</td>\n",
       "      <td>-0.400248</td>\n",
       "    </tr>\n",
       "    <tr>\n",
       "      <th>417</th>\n",
       "      <td>0.873482</td>\n",
       "      <td>0.616992</td>\n",
       "      <td>0.619896</td>\n",
       "    </tr>\n",
       "  </tbody>\n",
       "</table>\n",
       "<p>418 rows × 3 columns</p>\n",
       "</div>"
      ],
      "text/plain": [
       "       Pclass     SibSp     Parch\n",
       "0    0.873482 -0.499470 -0.400248\n",
       "1    0.873482  0.616992 -0.400248\n",
       "2   -0.315819 -0.499470 -0.400248\n",
       "3    0.873482 -0.499470 -0.400248\n",
       "4    0.873482  0.616992  0.619896\n",
       "..        ...       ...       ...\n",
       "413  0.873482 -0.499470 -0.400248\n",
       "414 -1.505120 -0.499470 -0.400248\n",
       "415  0.873482 -0.499470 -0.400248\n",
       "416  0.873482 -0.499470 -0.400248\n",
       "417  0.873482  0.616992  0.619896\n",
       "\n",
       "[418 rows x 3 columns]"
      ]
     },
     "execution_count": 488,
     "metadata": {},
     "output_type": "execute_result"
    }
   ],
   "source": [
    "dft[numerical_discrete].apply(stats.zscore)"
   ]
  },
  {
   "cell_type": "code",
   "execution_count": 489,
   "metadata": {},
   "outputs": [],
   "source": [
    "dft_clean = dft.copy()"
   ]
  },
  {
   "cell_type": "code",
   "execution_count": 490,
   "metadata": {},
   "outputs": [],
   "source": [
    "# Treating outliers in the columns that have outliers\n",
    "zscore_Age = np.abs(stats.zscore(dft['Age']))\n",
    "dft_clean['Age'] = dft_clean['Age'][(zscore_Age < 1)]\n",
    "zscore_Fare   = np.abs(stats.zscore(dft['Fare']))\n",
    "dft_clean['Fare'] = dft_clean['Fare'][(zscore_Fare < 1)]\n",
    "zscore_SibSp   = np.abs(stats.zscore(dft['SibSp']))\n",
    "dft_clean['SibSp'] = dft_clean['SibSp'][(zscore_SibSp < 1)]\n",
    "\n",
    "zscore_Parch    = np.abs(stats.zscore(dft['Parch']))\n",
    "dft_clean['Parch'] = dft_clean['Parch'][(zscore_Parch  < 1)]\n"
   ]
  },
  {
   "cell_type": "code",
   "execution_count": 491,
   "metadata": {},
   "outputs": [
    {
     "data": {
      "text/plain": [
       "<AxesSubplot:>"
      ]
     },
     "execution_count": 491,
     "metadata": {},
     "output_type": "execute_result"
    },
    {
     "data": {
      "image/png": "[encoded data removed]",
      "text/plain": [
       "<Figure size 864x576 with 1 Axes>"
      ]
     },
     "metadata": {
      "needs_background": "light"
     },
     "output_type": "display_data"
    }
   ],
   "source": [
    "dft_clean[numerical_continuous].plot(kind = 'box', figsize = (12, 8))"
   ]
  },
  {
   "cell_type": "code",
   "execution_count": 492,
   "metadata": {},
   "outputs": [
    {
     "data": {
      "text/plain": [
       "<AxesSubplot:>"
      ]
     },
     "execution_count": 492,
     "metadata": {},
     "output_type": "execute_result"
    },
    {
     "data": {
      "image/png": "[encoded data removed]",
      "text/plain": [
       "<Figure size 864x576 with 1 Axes>"
      ]
     },
     "metadata": {
      "needs_background": "light"
     },
     "output_type": "display_data"
    }
   ],
   "source": [
    "dft_clean[numerical_discrete].plot(kind = 'box', figsize = (12, 8))"
   ]
  },
  {
   "cell_type": "code",
   "execution_count": 494,
   "metadata": {},
   "outputs": [
    {
     "name": "stdout",
     "output_type": "stream",
     "text": [
      "<class 'pandas.core.frame.DataFrame'>\n",
      "RangeIndex: 418 entries, 0 to 417\n",
      "Data columns (total 10 columns):\n",
      " #   Column       Non-Null Count  Dtype  \n",
      "---  ------       --------------  -----  \n",
      " 0   PassengerId  418 non-null    int64  \n",
      " 1   Pclass       418 non-null    int64  \n",
      " 2   Name         418 non-null    object \n",
      " 3   Sex          418 non-null    object \n",
      " 4   Age          318 non-null    float64\n",
      " 5   SibSp        393 non-null    float64\n",
      " 6   Parch        376 non-null    float64\n",
      " 7   Ticket       418 non-null    object \n",
      " 8   Fare         385 non-null    float64\n",
      " 9   Embarked     418 non-null    object \n",
      "dtypes: float64(4), int64(2), object(4)\n",
      "memory usage: 32.8+ KB\n"
     ]
    }
   ],
   "source": [
    "dft_clean.info()"
   ]
  },
  {
   "cell_type": "code",
   "execution_count": null,
   "metadata": {},
   "outputs": [],
   "source": []
  },
  {
   "cell_type": "code",
   "execution_count": null,
   "metadata": {},
   "outputs": [],
   "source": []
  },
  {
   "cell_type": "code",
   "execution_count": 622,
   "metadata": {},
   "outputs": [],
   "source": [
    "test = dft_clean.copy()"
   ]
  },
  {
   "cell_type": "code",
   "execution_count": 623,
   "metadata": {},
   "outputs": [],
   "source": [
    "train = df_clean.copy()"
   ]
  },
  {
   "cell_type": "code",
   "execution_count": 624,
   "metadata": {},
   "outputs": [],
   "source": [
    "train.drop(columns=['PassengerId','Name', 'Ticket' ], axis=1, inplace=True)\n",
    "test.drop(columns= [ 'PassengerId','Name', 'Ticket'], axis=1, inplace= True)"
   ]
  },
  {
   "cell_type": "code",
   "execution_count": 625,
   "metadata": {},
   "outputs": [
    {
     "name": "stdout",
     "output_type": "stream",
     "text": [
      "<class 'pandas.core.frame.DataFrame'>\n",
      "RangeIndex: 891 entries, 0 to 890\n",
      "Data columns (total 8 columns):\n",
      " #   Column    Non-Null Count  Dtype  \n",
      "---  ------    --------------  -----  \n",
      " 0   Survived  891 non-null    int64  \n",
      " 1   Pclass    891 non-null    int64  \n",
      " 2   Sex       891 non-null    object \n",
      " 3   Age       662 non-null    float64\n",
      " 4   SibSp     817 non-null    float64\n",
      " 5   Parch     796 non-null    float64\n",
      " 6   Fare      818 non-null    float64\n",
      " 7   Embarked  889 non-null    object \n",
      "dtypes: float64(4), int64(2), object(2)\n",
      "memory usage: 55.8+ KB\n"
     ]
    }
   ],
   "source": [
    "train.info()"
   ]
  },
  {
   "cell_type": "code",
   "execution_count": 626,
   "metadata": {},
   "outputs": [
    {
     "name": "stdout",
     "output_type": "stream",
     "text": [
      "<class 'pandas.core.frame.DataFrame'>\n",
      "RangeIndex: 418 entries, 0 to 417\n",
      "Data columns (total 7 columns):\n",
      " #   Column    Non-Null Count  Dtype  \n",
      "---  ------    --------------  -----  \n",
      " 0   Pclass    418 non-null    int64  \n",
      " 1   Sex       418 non-null    object \n",
      " 2   Age       318 non-null    float64\n",
      " 3   SibSp     393 non-null    float64\n",
      " 4   Parch     376 non-null    float64\n",
      " 5   Fare      385 non-null    float64\n",
      " 6   Embarked  418 non-null    object \n",
      "dtypes: float64(4), int64(1), object(2)\n",
      "memory usage: 23.0+ KB\n"
     ]
    }
   ],
   "source": [
    "test.info()"
   ]
  },
  {
   "cell_type": "code",
   "execution_count": 627,
   "metadata": {},
   "outputs": [
    {
     "data": {
      "text/plain": [
       "Pclass        0\n",
       "Sex           0\n",
       "Age         100\n",
       "SibSp        25\n",
       "Parch        42\n",
       "Fare         33\n",
       "Embarked      0\n",
       "dtype: int64"
      ]
     },
     "execution_count": 627,
     "metadata": {},
     "output_type": "execute_result"
    }
   ],
   "source": [
    "test.isnull().sum()"
   ]
  },
  {
   "cell_type": "code",
   "execution_count": 628,
   "metadata": {},
   "outputs": [
    {
     "data": {
      "text/plain": [
       "Survived      0\n",
       "Pclass        0\n",
       "Sex           0\n",
       "Age         229\n",
       "SibSp        74\n",
       "Parch        95\n",
       "Fare         73\n",
       "Embarked      2\n",
       "dtype: int64"
      ]
     },
     "execution_count": 628,
     "metadata": {},
     "output_type": "execute_result"
    }
   ],
   "source": [
    "train.isnull().sum()"
   ]
  },
  {
   "cell_type": "markdown",
   "metadata": {},
   "source": [
    "### EMBARKED IS A CATEGORICAL VARIABLE WE REPLACE BY MODE"
   ]
  },
  {
   "cell_type": "code",
   "execution_count": 629,
   "metadata": {},
   "outputs": [
    {
     "data": {
      "text/plain": [
       "'S'"
      ]
     },
     "execution_count": 629,
     "metadata": {},
     "output_type": "execute_result"
    }
   ],
   "source": [
    "train['Embarked'].mode()[0]"
   ]
  },
  {
   "cell_type": "code",
   "execution_count": null,
   "metadata": {},
   "outputs": [],
   "source": []
  },
  {
   "cell_type": "code",
   "execution_count": 630,
   "metadata": {},
   "outputs": [],
   "source": [
    "train['Embarked'].fillna(train['Embarked'].mode()[0], inplace=True)\n"
   ]
  },
  {
   "cell_type": "code",
   "execution_count": 631,
   "metadata": {},
   "outputs": [],
   "source": [
    "train['Fare'] = train['Fare'].fillna(train['Fare'].median())\n",
    "train['Age'] = train['Age'].fillna(train['Age'].median())\n",
    "train['SibSp'] = train['SibSp'].fillna(train['SibSp'].median())\n",
    "train['Parch'] = train['Parch'].fillna(train['Parch'].median())"
   ]
  },
  {
   "cell_type": "code",
   "execution_count": 632,
   "metadata": {},
   "outputs": [
    {
     "data": {
      "text/plain": [
       "Survived    0\n",
       "Pclass      0\n",
       "Sex         0\n",
       "Age         0\n",
       "SibSp       0\n",
       "Parch       0\n",
       "Fare        0\n",
       "Embarked    0\n",
       "dtype: int64"
      ]
     },
     "execution_count": 632,
     "metadata": {},
     "output_type": "execute_result"
    }
   ],
   "source": [
    "train.isnull().sum()"
   ]
  },
  {
   "cell_type": "code",
   "execution_count": 633,
   "metadata": {},
   "outputs": [],
   "source": [
    "train= pd.get_dummies(train, columns=['Pclass', 'Sex', 'Embarked' ], drop_first= True)\n",
    "\n",
    "test= pd.get_dummies(test, columns=['Pclass', 'Sex', 'Embarked' ], drop_first= True)"
   ]
  },
  {
   "cell_type": "code",
   "execution_count": 634,
   "metadata": {},
   "outputs": [
    {
     "data": {
      "text/html": [
       "<div>\n",
       "<style scoped>\n",
       "    .dataframe tbody tr th:only-of-type {\n",
       "        vertical-align: middle;\n",
       "    }\n",
       "\n",
       "    .dataframe tbody tr th {\n",
       "        vertical-align: top;\n",
       "    }\n",
       "\n",
       "    .dataframe thead th {\n",
       "        text-align: right;\n",
       "    }\n",
       "</style>\n",
       "<table border=\"1\" class=\"dataframe\">\n",
       "  <thead>\n",
       "    <tr style=\"text-align: right;\">\n",
       "      <th></th>\n",
       "      <th>Survived</th>\n",
       "      <th>Age</th>\n",
       "      <th>SibSp</th>\n",
       "      <th>Parch</th>\n",
       "      <th>Fare</th>\n",
       "      <th>Pclass_2</th>\n",
       "      <th>Pclass_3</th>\n",
       "      <th>Sex_male</th>\n",
       "      <th>Embarked_Q</th>\n",
       "      <th>Embarked_S</th>\n",
       "    </tr>\n",
       "  </thead>\n",
       "  <tbody>\n",
       "    <tr>\n",
       "      <th>0</th>\n",
       "      <td>0</td>\n",
       "      <td>22.0</td>\n",
       "      <td>1.0</td>\n",
       "      <td>0.0</td>\n",
       "      <td>7.2500</td>\n",
       "      <td>0</td>\n",
       "      <td>1</td>\n",
       "      <td>1</td>\n",
       "      <td>0</td>\n",
       "      <td>1</td>\n",
       "    </tr>\n",
       "    <tr>\n",
       "      <th>1</th>\n",
       "      <td>1</td>\n",
       "      <td>38.0</td>\n",
       "      <td>1.0</td>\n",
       "      <td>0.0</td>\n",
       "      <td>71.2833</td>\n",
       "      <td>0</td>\n",
       "      <td>0</td>\n",
       "      <td>0</td>\n",
       "      <td>0</td>\n",
       "      <td>0</td>\n",
       "    </tr>\n",
       "    <tr>\n",
       "      <th>2</th>\n",
       "      <td>1</td>\n",
       "      <td>26.0</td>\n",
       "      <td>0.0</td>\n",
       "      <td>0.0</td>\n",
       "      <td>7.9250</td>\n",
       "      <td>0</td>\n",
       "      <td>1</td>\n",
       "      <td>0</td>\n",
       "      <td>0</td>\n",
       "      <td>1</td>\n",
       "    </tr>\n",
       "    <tr>\n",
       "      <th>3</th>\n",
       "      <td>1</td>\n",
       "      <td>35.0</td>\n",
       "      <td>1.0</td>\n",
       "      <td>0.0</td>\n",
       "      <td>53.1000</td>\n",
       "      <td>0</td>\n",
       "      <td>0</td>\n",
       "      <td>0</td>\n",
       "      <td>0</td>\n",
       "      <td>1</td>\n",
       "    </tr>\n",
       "    <tr>\n",
       "      <th>4</th>\n",
       "      <td>0</td>\n",
       "      <td>35.0</td>\n",
       "      <td>0.0</td>\n",
       "      <td>0.0</td>\n",
       "      <td>8.0500</td>\n",
       "      <td>0</td>\n",
       "      <td>1</td>\n",
       "      <td>1</td>\n",
       "      <td>0</td>\n",
       "      <td>1</td>\n",
       "    </tr>\n",
       "  </tbody>\n",
       "</table>\n",
       "</div>"
      ],
      "text/plain": [
       "   Survived   Age  SibSp  Parch     Fare  Pclass_2  Pclass_3  Sex_male  \\\n",
       "0         0  22.0    1.0    0.0   7.2500         0         1         1   \n",
       "1         1  38.0    1.0    0.0  71.2833         0         0         0   \n",
       "2         1  26.0    0.0    0.0   7.9250         0         1         0   \n",
       "3         1  35.0    1.0    0.0  53.1000         0         0         0   \n",
       "4         0  35.0    0.0    0.0   8.0500         0         1         1   \n",
       "\n",
       "   Embarked_Q  Embarked_S  \n",
       "0           0           1  \n",
       "1           0           0  \n",
       "2           0           1  \n",
       "3           0           1  \n",
       "4           0           1  "
      ]
     },
     "execution_count": 634,
     "metadata": {},
     "output_type": "execute_result"
    }
   ],
   "source": [
    "train.head()"
   ]
  },
  {
   "cell_type": "code",
   "execution_count": 635,
   "metadata": {},
   "outputs": [
    {
     "data": {
      "text/html": [
       "<div>\n",
       "<style scoped>\n",
       "    .dataframe tbody tr th:only-of-type {\n",
       "        vertical-align: middle;\n",
       "    }\n",
       "\n",
       "    .dataframe tbody tr th {\n",
       "        vertical-align: top;\n",
       "    }\n",
       "\n",
       "    .dataframe thead th {\n",
       "        text-align: right;\n",
       "    }\n",
       "</style>\n",
       "<table border=\"1\" class=\"dataframe\">\n",
       "  <thead>\n",
       "    <tr style=\"text-align: right;\">\n",
       "      <th></th>\n",
       "      <th>Age</th>\n",
       "      <th>SibSp</th>\n",
       "      <th>Parch</th>\n",
       "      <th>Fare</th>\n",
       "      <th>Pclass_2</th>\n",
       "      <th>Pclass_3</th>\n",
       "      <th>Sex_male</th>\n",
       "      <th>Embarked_Q</th>\n",
       "      <th>Embarked_S</th>\n",
       "    </tr>\n",
       "  </thead>\n",
       "  <tbody>\n",
       "    <tr>\n",
       "      <th>0</th>\n",
       "      <td>34.5</td>\n",
       "      <td>0.0</td>\n",
       "      <td>0.0</td>\n",
       "      <td>7.8292</td>\n",
       "      <td>0</td>\n",
       "      <td>1</td>\n",
       "      <td>1</td>\n",
       "      <td>1</td>\n",
       "      <td>0</td>\n",
       "    </tr>\n",
       "    <tr>\n",
       "      <th>1</th>\n",
       "      <td>NaN</td>\n",
       "      <td>1.0</td>\n",
       "      <td>0.0</td>\n",
       "      <td>7.0000</td>\n",
       "      <td>0</td>\n",
       "      <td>1</td>\n",
       "      <td>0</td>\n",
       "      <td>0</td>\n",
       "      <td>1</td>\n",
       "    </tr>\n",
       "    <tr>\n",
       "      <th>2</th>\n",
       "      <td>NaN</td>\n",
       "      <td>0.0</td>\n",
       "      <td>0.0</td>\n",
       "      <td>9.6875</td>\n",
       "      <td>1</td>\n",
       "      <td>0</td>\n",
       "      <td>1</td>\n",
       "      <td>1</td>\n",
       "      <td>0</td>\n",
       "    </tr>\n",
       "    <tr>\n",
       "      <th>3</th>\n",
       "      <td>27.0</td>\n",
       "      <td>0.0</td>\n",
       "      <td>0.0</td>\n",
       "      <td>8.6625</td>\n",
       "      <td>0</td>\n",
       "      <td>1</td>\n",
       "      <td>1</td>\n",
       "      <td>0</td>\n",
       "      <td>1</td>\n",
       "    </tr>\n",
       "    <tr>\n",
       "      <th>4</th>\n",
       "      <td>22.0</td>\n",
       "      <td>1.0</td>\n",
       "      <td>1.0</td>\n",
       "      <td>12.2875</td>\n",
       "      <td>0</td>\n",
       "      <td>1</td>\n",
       "      <td>0</td>\n",
       "      <td>0</td>\n",
       "      <td>1</td>\n",
       "    </tr>\n",
       "  </tbody>\n",
       "</table>\n",
       "</div>"
      ],
      "text/plain": [
       "    Age  SibSp  Parch     Fare  Pclass_2  Pclass_3  Sex_male  Embarked_Q  \\\n",
       "0  34.5    0.0    0.0   7.8292         0         1         1           1   \n",
       "1   NaN    1.0    0.0   7.0000         0         1         0           0   \n",
       "2   NaN    0.0    0.0   9.6875         1         0         1           1   \n",
       "3  27.0    0.0    0.0   8.6625         0         1         1           0   \n",
       "4  22.0    1.0    1.0  12.2875         0         1         0           0   \n",
       "\n",
       "   Embarked_S  \n",
       "0           0  \n",
       "1           1  \n",
       "2           0  \n",
       "3           1  \n",
       "4           1  "
      ]
     },
     "execution_count": 635,
     "metadata": {},
     "output_type": "execute_result"
    }
   ],
   "source": [
    "test.head()"
   ]
  },
  {
   "cell_type": "code",
   "execution_count": 636,
   "metadata": {},
   "outputs": [
    {
     "data": {
      "text/plain": [
       "Age           100\n",
       "SibSp          25\n",
       "Parch          42\n",
       "Fare           33\n",
       "Pclass_2        0\n",
       "Pclass_3        0\n",
       "Sex_male        0\n",
       "Embarked_Q      0\n",
       "Embarked_S      0\n",
       "dtype: int64"
      ]
     },
     "execution_count": 636,
     "metadata": {},
     "output_type": "execute_result"
    }
   ],
   "source": [
    "test.isnull().sum()"
   ]
  },
  {
   "cell_type": "code",
   "execution_count": 637,
   "metadata": {},
   "outputs": [],
   "source": [
    "test['Fare'] = test['Fare'].fillna(test['Fare'].median())\n",
    "test['Age'] = test['Age'].fillna(test['Age'].median())\n",
    "test['SibSp'] = test['SibSp'].fillna(test['SibSp'].median())\n",
    "test['Parch'] = test['Parch'].fillna(test['Parch'].median())"
   ]
  },
  {
   "cell_type": "code",
   "execution_count": 638,
   "metadata": {},
   "outputs": [],
   "source": [
    "X_train= train.iloc[:, 1:]\n",
    "y_train= train['Survived'].values.reshape(-1,1)\n",
    "\n",
    "X_test= test"
   ]
  },
  {
   "cell_type": "code",
   "execution_count": 639,
   "metadata": {},
   "outputs": [],
   "source": [
    "from sklearn.preprocessing import StandardScaler\n",
    "ss= StandardScaler()"
   ]
  },
  {
   "cell_type": "code",
   "execution_count": 640,
   "metadata": {},
   "outputs": [],
   "source": [
    "features= ['Age', 'SibSp', 'Fare']\n",
    "\n",
    "X_train[features]= ss.fit_transform(X_train[features])\n",
    "X_test[features]= ss.fit_transform(X_test[features])"
   ]
  },
  {
   "cell_type": "code",
   "execution_count": 641,
   "metadata": {},
   "outputs": [
    {
     "data": {
      "text/html": [
       "<div>\n",
       "<style scoped>\n",
       "    .dataframe tbody tr th:only-of-type {\n",
       "        vertical-align: middle;\n",
       "    }\n",
       "\n",
       "    .dataframe tbody tr th {\n",
       "        vertical-align: top;\n",
       "    }\n",
       "\n",
       "    .dataframe thead th {\n",
       "        text-align: right;\n",
       "    }\n",
       "</style>\n",
       "<table border=\"1\" class=\"dataframe\">\n",
       "  <thead>\n",
       "    <tr style=\"text-align: right;\">\n",
       "      <th></th>\n",
       "      <th>Age</th>\n",
       "      <th>SibSp</th>\n",
       "      <th>Parch</th>\n",
       "      <th>Fare</th>\n",
       "      <th>Pclass_2</th>\n",
       "      <th>Pclass_3</th>\n",
       "      <th>Sex_male</th>\n",
       "      <th>Embarked_Q</th>\n",
       "      <th>Embarked_S</th>\n",
       "    </tr>\n",
       "  </thead>\n",
       "  <tbody>\n",
       "    <tr>\n",
       "      <th>0</th>\n",
       "      <td>-1.176358</td>\n",
       "      <td>1.806421</td>\n",
       "      <td>0.0</td>\n",
       "      <td>-0.728995</td>\n",
       "      <td>0</td>\n",
       "      <td>1</td>\n",
       "      <td>1</td>\n",
       "      <td>0</td>\n",
       "      <td>1</td>\n",
       "    </tr>\n",
       "    <tr>\n",
       "      <th>1</th>\n",
       "      <td>1.938746</td>\n",
       "      <td>1.806421</td>\n",
       "      <td>0.0</td>\n",
       "      <td>2.880523</td>\n",
       "      <td>0</td>\n",
       "      <td>0</td>\n",
       "      <td>0</td>\n",
       "      <td>0</td>\n",
       "      <td>0</td>\n",
       "    </tr>\n",
       "    <tr>\n",
       "      <th>2</th>\n",
       "      <td>-0.397582</td>\n",
       "      <td>-0.553581</td>\n",
       "      <td>0.0</td>\n",
       "      <td>-0.690946</td>\n",
       "      <td>0</td>\n",
       "      <td>1</td>\n",
       "      <td>0</td>\n",
       "      <td>0</td>\n",
       "      <td>1</td>\n",
       "    </tr>\n",
       "    <tr>\n",
       "      <th>3</th>\n",
       "      <td>1.354664</td>\n",
       "      <td>1.806421</td>\n",
       "      <td>0.0</td>\n",
       "      <td>1.855542</td>\n",
       "      <td>0</td>\n",
       "      <td>0</td>\n",
       "      <td>0</td>\n",
       "      <td>0</td>\n",
       "      <td>1</td>\n",
       "    </tr>\n",
       "    <tr>\n",
       "      <th>4</th>\n",
       "      <td>1.354664</td>\n",
       "      <td>-0.553581</td>\n",
       "      <td>0.0</td>\n",
       "      <td>-0.683900</td>\n",
       "      <td>0</td>\n",
       "      <td>1</td>\n",
       "      <td>1</td>\n",
       "      <td>0</td>\n",
       "      <td>1</td>\n",
       "    </tr>\n",
       "  </tbody>\n",
       "</table>\n",
       "</div>"
      ],
      "text/plain": [
       "        Age     SibSp  Parch      Fare  Pclass_2  Pclass_3  Sex_male  \\\n",
       "0 -1.176358  1.806421    0.0 -0.728995         0         1         1   \n",
       "1  1.938746  1.806421    0.0  2.880523         0         0         0   \n",
       "2 -0.397582 -0.553581    0.0 -0.690946         0         1         0   \n",
       "3  1.354664  1.806421    0.0  1.855542         0         0         0   \n",
       "4  1.354664 -0.553581    0.0 -0.683900         0         1         1   \n",
       "\n",
       "   Embarked_Q  Embarked_S  \n",
       "0           0           1  \n",
       "1           0           0  \n",
       "2           0           1  \n",
       "3           0           1  \n",
       "4           0           1  "
      ]
     },
     "execution_count": 641,
     "metadata": {},
     "output_type": "execute_result"
    }
   ],
   "source": [
    "X_train.head()"
   ]
  },
  {
   "cell_type": "code",
   "execution_count": 642,
   "metadata": {},
   "outputs": [
    {
     "data": {
      "text/html": [
       "<div>\n",
       "<style scoped>\n",
       "    .dataframe tbody tr th:only-of-type {\n",
       "        vertical-align: middle;\n",
       "    }\n",
       "\n",
       "    .dataframe tbody tr th {\n",
       "        vertical-align: top;\n",
       "    }\n",
       "\n",
       "    .dataframe thead th {\n",
       "        text-align: right;\n",
       "    }\n",
       "</style>\n",
       "<table border=\"1\" class=\"dataframe\">\n",
       "  <thead>\n",
       "    <tr style=\"text-align: right;\">\n",
       "      <th></th>\n",
       "      <th>Age</th>\n",
       "      <th>SibSp</th>\n",
       "      <th>Parch</th>\n",
       "      <th>Fare</th>\n",
       "      <th>Pclass_2</th>\n",
       "      <th>Pclass_3</th>\n",
       "      <th>Sex_male</th>\n",
       "      <th>Embarked_Q</th>\n",
       "      <th>Embarked_S</th>\n",
       "    </tr>\n",
       "  </thead>\n",
       "  <tbody>\n",
       "    <tr>\n",
       "      <th>0</th>\n",
       "      <td>1.443461</td>\n",
       "      <td>-0.597614</td>\n",
       "      <td>0.0</td>\n",
       "      <td>-0.692377</td>\n",
       "      <td>0</td>\n",
       "      <td>1</td>\n",
       "      <td>1</td>\n",
       "      <td>1</td>\n",
       "      <td>0</td>\n",
       "    </tr>\n",
       "    <tr>\n",
       "      <th>1</th>\n",
       "      <td>-0.034413</td>\n",
       "      <td>1.673320</td>\n",
       "      <td>0.0</td>\n",
       "      <td>-0.736129</td>\n",
       "      <td>0</td>\n",
       "      <td>1</td>\n",
       "      <td>0</td>\n",
       "      <td>0</td>\n",
       "      <td>1</td>\n",
       "    </tr>\n",
       "    <tr>\n",
       "      <th>2</th>\n",
       "      <td>-0.034413</td>\n",
       "      <td>-0.597614</td>\n",
       "      <td>0.0</td>\n",
       "      <td>-0.594327</td>\n",
       "      <td>1</td>\n",
       "      <td>0</td>\n",
       "      <td>1</td>\n",
       "      <td>1</td>\n",
       "      <td>0</td>\n",
       "    </tr>\n",
       "    <tr>\n",
       "      <th>3</th>\n",
       "      <td>-0.034413</td>\n",
       "      <td>-0.597614</td>\n",
       "      <td>0.0</td>\n",
       "      <td>-0.648409</td>\n",
       "      <td>0</td>\n",
       "      <td>1</td>\n",
       "      <td>1</td>\n",
       "      <td>0</td>\n",
       "      <td>1</td>\n",
       "    </tr>\n",
       "    <tr>\n",
       "      <th>4</th>\n",
       "      <td>-1.019662</td>\n",
       "      <td>1.673320</td>\n",
       "      <td>1.0</td>\n",
       "      <td>-0.457141</td>\n",
       "      <td>0</td>\n",
       "      <td>1</td>\n",
       "      <td>0</td>\n",
       "      <td>0</td>\n",
       "      <td>1</td>\n",
       "    </tr>\n",
       "  </tbody>\n",
       "</table>\n",
       "</div>"
      ],
      "text/plain": [
       "        Age     SibSp  Parch      Fare  Pclass_2  Pclass_3  Sex_male  \\\n",
       "0  1.443461 -0.597614    0.0 -0.692377         0         1         1   \n",
       "1 -0.034413  1.673320    0.0 -0.736129         0         1         0   \n",
       "2 -0.034413 -0.597614    0.0 -0.594327         1         0         1   \n",
       "3 -0.034413 -0.597614    0.0 -0.648409         0         1         1   \n",
       "4 -1.019662  1.673320    1.0 -0.457141         0         1         0   \n",
       "\n",
       "   Embarked_Q  Embarked_S  \n",
       "0           1           0  \n",
       "1           0           1  \n",
       "2           1           0  \n",
       "3           0           1  \n",
       "4           0           1  "
      ]
     },
     "execution_count": 642,
     "metadata": {},
     "output_type": "execute_result"
    }
   ],
   "source": [
    "X_test.head()"
   ]
  },
  {
   "cell_type": "code",
   "execution_count": 643,
   "metadata": {},
   "outputs": [],
   "source": [
    "from sklearn.linear_model import LogisticRegression\n",
    "\n",
    "clf= LogisticRegression()\n",
    "\n",
    "clf.fit(X_train, y_train.ravel())\n",
    "\n",
    "predictions= clf.predict(X_test)"
   ]
  },
  {
   "cell_type": "code",
   "execution_count": 644,
   "metadata": {},
   "outputs": [
    {
     "name": "stdout",
     "output_type": "stream",
     "text": [
      "0.7901234567901234\n"
     ]
    }
   ],
   "source": [
    "print(clf.score(X_train, y_train))"
   ]
  },
  {
   "cell_type": "code",
   "execution_count": null,
   "metadata": {},
   "outputs": [],
   "source": []
  },
  {
   "cell_type": "code",
   "execution_count": 647,
   "metadata": {},
   "outputs": [
    {
     "name": "stdout",
     "output_type": "stream",
     "text": [
      "   PassengerId  Survived\n",
      "0          892         0\n",
      "1          893         1\n",
      "2          894         0\n",
      "3          895         0\n",
      "4          896         1\n"
     ]
    }
   ],
   "source": [
    "submission= pd.DataFrame({'PassengerId' : dft['PassengerId'],'Survived': predictions })\n",
    "\n",
    "print(submission.head())"
   ]
  },
  {
   "cell_type": "code",
   "execution_count": 648,
   "metadata": {},
   "outputs": [],
   "source": [
    "filename= 'titanic predictions.csv'\n",
    "submission.to_csv(filename, index=False)"
   ]
  },
  {
   "cell_type": "markdown",
   "metadata": {},
   "source": [
    "###  titanic predictions FILE SAVED IN DOWNLOADS"
   ]
  },
  {
   "cell_type": "code",
   "execution_count": null,
   "metadata": {},
   "outputs": [],
   "source": []
  }
 ],
 "metadata": {
  "kernelspec": {
   "display_name": "Python 3",
   "language": "python",
   "name": "python3"
  },
  "language_info": {
   "codemirror_mode": {
    "name": "ipython",
    "version": 3
   },
   "file_extension": ".py",
   "mimetype": "text/x-python",
   "name": "python",
   "nbconvert_exporter": "python",
   "pygments_lexer": "ipython3",
   "version": "3.8.5"
  }
 },
 "nbformat": 4,
 "nbformat_minor": 4
}
